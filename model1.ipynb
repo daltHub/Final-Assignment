{
 "cells": [
  {
   "cell_type": "code",
   "execution_count": null,
   "metadata": {},
   "outputs": [],
   "source": [
    "import matplotlib.pyplot as plt\n",
    "import math\n",
    "import numpy as np\n"
   ]
  },
  {
   "cell_type": "code",
   "execution_count": null,
   "metadata": {},
   "outputs": [],
   "source": []
  },
  {
   "cell_type": "code",
   "execution_count": null,
   "metadata": {},
   "outputs": [],
   "source": [
    "y = df1['AVAILABLE BIKES']\n",
    "plot=True\n",
    "t = df1['T']\n",
    "def test_preds(q,dd,lag,plot):\n",
    "#q-step ahead prediction\n",
    "    stride=1\n",
    "    XX=y[0:y.size-q-lag*dd:stride]\n",
    "    for i in range(1,lag):\n",
    "        X=y[i*dd:y.size-q-(lag-i)*dd:stride]\n",
    "        XX=np.column_stack((XX,X))\n",
    "    yy=y[lag*dd+q::stride]; tt=t[lag*dd+q::stride]\n",
    "    from sklearn.model_selection import train_test_split\n",
    "    train, test = train_test_split(np.arange(0,yy.size),test_size=0.2)\n",
    "\n",
    "    from sklearn.linear_model import Ridge\n",
    "    model = Ridge(fit_intercept=False).fit(XX[train], yy[train])\n",
    "    print(model.intercept_, model.coef_)"
   ]
  }
 ],
 "metadata": {
  "language_info": {
   "name": "python"
  },
  "orig_nbformat": 4
 },
 "nbformat": 4,
 "nbformat_minor": 2
}
