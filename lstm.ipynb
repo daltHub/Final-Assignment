{
 "cells": [
  {
   "cell_type": "code",
   "execution_count": 1,
   "metadata": {},
   "outputs": [
    {
     "name": "stdout",
     "output_type": "stream",
     "text": [
      "tf.Tensor(-857.6747, shape=(), dtype=float32)\n"
     ]
    }
   ],
   "source": [
    "import tensorflow as tf;print(tf.reduce_sum(tf.random.normal([1000, 1000])))"
   ]
  }
 ],
 "metadata": {
  "interpreter": {
   "hash": "c4f3a0e336a38bae68654725b3a3f1cf72721c49ae4cdf2f579a678d5e71f98f"
  },
  "kernelspec": {
   "display_name": "Python 3.8.8 64-bit ('fyp': conda)",
   "language": "python",
   "name": "python3"
  },
  "language_info": {
   "codemirror_mode": {
    "name": "ipython",
    "version": 3
   },
   "file_extension": ".py",
   "mimetype": "text/x-python",
   "name": "python",
   "nbconvert_exporter": "python",
   "pygments_lexer": "ipython3",
   "version": "3.8.8"
  },
  "orig_nbformat": 4
 },
 "nbformat": 4,
 "nbformat_minor": 2
}
