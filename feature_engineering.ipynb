{
 "cells": [
  {
   "cell_type": "code",
   "execution_count": 1,
   "metadata": {},
   "outputs": [],
   "source": [
    "import pandas as pd\n",
    "import numpy as np\n",
    "import matplotlib.pyplot as plt\n",
    "plt.rc('font', size=18); plt.rcParams['figure.constrained_layout.use'] = True\n",
    "import datetime\n",
    "import pylab\n",
    "import math\n",
    "\n",
    "import functions.misc_functions as misc"
   ]
  },
  {
   "cell_type": "code",
   "execution_count": 2,
   "metadata": {},
   "outputs": [],
   "source": [
    "df1 = pd.read_csv('data/buckingham.csv', usecols=[1,5])\n",
    "\n",
    "df1['TIME'] = pd.to_datetime(df1['TIME'])\n",
    "\n",
    "\n",
    "# start = pd.to_datetime('2020-01-27')   # 2020-01-01 06:25:02. Data only reliable after 2020-01-26.\n",
    "# end = pd.to_datetime(str(max(df1.TIME)))     # 2020-04-01 23:55:02. \n",
    "# start_date = start.date()\n",
    "# end_date = end.date()\n",
    "\n",
    "# t_start = pd.DatetimeIndex([start]).astype(np.int64)/1000000000\n",
    "# t_end = pd.DatetimeIndex([end]).astype(np.int64)/1000000000\n",
    "\n",
    "\n",
    "t_full=pd.array(pd.DatetimeIndex(df1.iloc[:,0]).astype(np.int64))/1000000000\n",
    "df1['T']=(t_full-t_full[0])/60/60/24 # convert timestamp to days\n",
    "df1['t'] = df1['T'].apply(lambda x: x%1)\n",
    "\n",
    "# df\n",
    "df1.drop(df1.loc[df1['T']<27].index, inplace=True)\n",
    "df1['WEEKDAY'] = pd.to_datetime(df1['TIME'])\n",
    "df1['WEEKDAY'] = df1['WEEKDAY'].dt.dayofweek\n",
    "# t = np.extract([(t_full>=t_start) & (t_full<=t_end)], t_full)\n",
    "dt = t_full[1] - t_full[0]\n",
    "# print(f\"sampling interval = {dt} seconds\")"
   ]
  },
  {
   "cell_type": "code",
   "execution_count": 3,
   "metadata": {},
   "outputs": [
    {
     "data": {
      "text/html": [
       "<div>\n",
       "<style scoped>\n",
       "    .dataframe tbody tr th:only-of-type {\n",
       "        vertical-align: middle;\n",
       "    }\n",
       "\n",
       "    .dataframe tbody tr th {\n",
       "        vertical-align: top;\n",
       "    }\n",
       "\n",
       "    .dataframe thead th {\n",
       "        text-align: right;\n",
       "    }\n",
       "</style>\n",
       "<table border=\"1\" class=\"dataframe\">\n",
       "  <thead>\n",
       "    <tr style=\"text-align: right;\">\n",
       "      <th></th>\n",
       "      <th>TIME</th>\n",
       "      <th>AVAILABLE BIKES</th>\n",
       "      <th>T</th>\n",
       "      <th>t</th>\n",
       "      <th>WEEKDAY</th>\n",
       "    </tr>\n",
       "  </thead>\n",
       "  <tbody>\n",
       "    <tr>\n",
       "      <th>1879</th>\n",
       "      <td>2020-01-28 06:25:02</td>\n",
       "      <td>23</td>\n",
       "      <td>27.000000</td>\n",
       "      <td>0.000000</td>\n",
       "      <td>1</td>\n",
       "    </tr>\n",
       "    <tr>\n",
       "      <th>1880</th>\n",
       "      <td>2020-01-28 06:30:27</td>\n",
       "      <td>23</td>\n",
       "      <td>27.003762</td>\n",
       "      <td>0.003762</td>\n",
       "      <td>1</td>\n",
       "    </tr>\n",
       "    <tr>\n",
       "      <th>1881</th>\n",
       "      <td>2020-01-28 06:35:02</td>\n",
       "      <td>23</td>\n",
       "      <td>27.006944</td>\n",
       "      <td>0.006944</td>\n",
       "      <td>1</td>\n",
       "    </tr>\n",
       "    <tr>\n",
       "      <th>1882</th>\n",
       "      <td>2020-01-28 06:40:02</td>\n",
       "      <td>23</td>\n",
       "      <td>27.010417</td>\n",
       "      <td>0.010417</td>\n",
       "      <td>1</td>\n",
       "    </tr>\n",
       "    <tr>\n",
       "      <th>1883</th>\n",
       "      <td>2020-01-28 06:45:02</td>\n",
       "      <td>23</td>\n",
       "      <td>27.013889</td>\n",
       "      <td>0.013889</td>\n",
       "      <td>1</td>\n",
       "    </tr>\n",
       "    <tr>\n",
       "      <th>...</th>\n",
       "      <td>...</td>\n",
       "      <td>...</td>\n",
       "      <td>...</td>\n",
       "      <td>...</td>\n",
       "      <td>...</td>\n",
       "    </tr>\n",
       "    <tr>\n",
       "      <th>20364</th>\n",
       "      <td>2020-04-01 23:35:02</td>\n",
       "      <td>11</td>\n",
       "      <td>91.715278</td>\n",
       "      <td>0.715278</td>\n",
       "      <td>2</td>\n",
       "    </tr>\n",
       "    <tr>\n",
       "      <th>20365</th>\n",
       "      <td>2020-04-01 23:40:02</td>\n",
       "      <td>11</td>\n",
       "      <td>91.718750</td>\n",
       "      <td>0.718750</td>\n",
       "      <td>2</td>\n",
       "    </tr>\n",
       "    <tr>\n",
       "      <th>20366</th>\n",
       "      <td>2020-04-01 23:45:02</td>\n",
       "      <td>11</td>\n",
       "      <td>91.722222</td>\n",
       "      <td>0.722222</td>\n",
       "      <td>2</td>\n",
       "    </tr>\n",
       "    <tr>\n",
       "      <th>20367</th>\n",
       "      <td>2020-04-01 23:50:03</td>\n",
       "      <td>11</td>\n",
       "      <td>91.725706</td>\n",
       "      <td>0.725706</td>\n",
       "      <td>2</td>\n",
       "    </tr>\n",
       "    <tr>\n",
       "      <th>20368</th>\n",
       "      <td>2020-04-01 23:55:02</td>\n",
       "      <td>11</td>\n",
       "      <td>91.729167</td>\n",
       "      <td>0.729167</td>\n",
       "      <td>2</td>\n",
       "    </tr>\n",
       "  </tbody>\n",
       "</table>\n",
       "<p>18490 rows × 5 columns</p>\n",
       "</div>"
      ],
      "text/plain": [
       "                     TIME  AVAILABLE BIKES          T         t  WEEKDAY\n",
       "1879  2020-01-28 06:25:02               23  27.000000  0.000000        1\n",
       "1880  2020-01-28 06:30:27               23  27.003762  0.003762        1\n",
       "1881  2020-01-28 06:35:02               23  27.006944  0.006944        1\n",
       "1882  2020-01-28 06:40:02               23  27.010417  0.010417        1\n",
       "1883  2020-01-28 06:45:02               23  27.013889  0.013889        1\n",
       "...                   ...              ...        ...       ...      ...\n",
       "20364 2020-04-01 23:35:02               11  91.715278  0.715278        2\n",
       "20365 2020-04-01 23:40:02               11  91.718750  0.718750        2\n",
       "20366 2020-04-01 23:45:02               11  91.722222  0.722222        2\n",
       "20367 2020-04-01 23:50:03               11  91.725706  0.725706        2\n",
       "20368 2020-04-01 23:55:02               11  91.729167  0.729167        2\n",
       "\n",
       "[18490 rows x 5 columns]"
      ]
     },
     "execution_count": 3,
     "metadata": {},
     "output_type": "execute_result"
    }
   ],
   "source": [
    "df1"
   ]
  },
  {
   "cell_type": "code",
   "execution_count": 4,
   "metadata": {},
   "outputs": [
    {
     "data": {
      "text/html": [
       "<div>\n",
       "<style scoped>\n",
       "    .dataframe tbody tr th:only-of-type {\n",
       "        vertical-align: middle;\n",
       "    }\n",
       "\n",
       "    .dataframe tbody tr th {\n",
       "        vertical-align: top;\n",
       "    }\n",
       "\n",
       "    .dataframe thead th {\n",
       "        text-align: right;\n",
       "    }\n",
       "</style>\n",
       "<table border=\"1\" class=\"dataframe\">\n",
       "  <thead>\n",
       "    <tr style=\"text-align: right;\">\n",
       "      <th></th>\n",
       "      <th>TIME</th>\n",
       "      <th>AVAILABLE BIKES</th>\n",
       "      <th>T</th>\n",
       "      <th>t</th>\n",
       "      <th>WEEKDAY</th>\n",
       "    </tr>\n",
       "  </thead>\n",
       "  <tbody>\n",
       "    <tr>\n",
       "      <th>1879</th>\n",
       "      <td>2020-01-28 06:25:02</td>\n",
       "      <td>23</td>\n",
       "      <td>27.000000</td>\n",
       "      <td>0.000000</td>\n",
       "      <td>1</td>\n",
       "    </tr>\n",
       "    <tr>\n",
       "      <th>1880</th>\n",
       "      <td>2020-01-28 06:30:27</td>\n",
       "      <td>23</td>\n",
       "      <td>27.003762</td>\n",
       "      <td>0.003762</td>\n",
       "      <td>1</td>\n",
       "    </tr>\n",
       "    <tr>\n",
       "      <th>1881</th>\n",
       "      <td>2020-01-28 06:35:02</td>\n",
       "      <td>23</td>\n",
       "      <td>27.006944</td>\n",
       "      <td>0.006944</td>\n",
       "      <td>1</td>\n",
       "    </tr>\n",
       "    <tr>\n",
       "      <th>1882</th>\n",
       "      <td>2020-01-28 06:40:02</td>\n",
       "      <td>23</td>\n",
       "      <td>27.010417</td>\n",
       "      <td>0.010417</td>\n",
       "      <td>1</td>\n",
       "    </tr>\n",
       "    <tr>\n",
       "      <th>1883</th>\n",
       "      <td>2020-01-28 06:45:02</td>\n",
       "      <td>23</td>\n",
       "      <td>27.013889</td>\n",
       "      <td>0.013889</td>\n",
       "      <td>1</td>\n",
       "    </tr>\n",
       "    <tr>\n",
       "      <th>...</th>\n",
       "      <td>...</td>\n",
       "      <td>...</td>\n",
       "      <td>...</td>\n",
       "      <td>...</td>\n",
       "      <td>...</td>\n",
       "    </tr>\n",
       "    <tr>\n",
       "      <th>20364</th>\n",
       "      <td>2020-04-01 23:35:02</td>\n",
       "      <td>11</td>\n",
       "      <td>91.715278</td>\n",
       "      <td>0.715278</td>\n",
       "      <td>2</td>\n",
       "    </tr>\n",
       "    <tr>\n",
       "      <th>20365</th>\n",
       "      <td>2020-04-01 23:40:02</td>\n",
       "      <td>11</td>\n",
       "      <td>91.718750</td>\n",
       "      <td>0.718750</td>\n",
       "      <td>2</td>\n",
       "    </tr>\n",
       "    <tr>\n",
       "      <th>20366</th>\n",
       "      <td>2020-04-01 23:45:02</td>\n",
       "      <td>11</td>\n",
       "      <td>91.722222</td>\n",
       "      <td>0.722222</td>\n",
       "      <td>2</td>\n",
       "    </tr>\n",
       "    <tr>\n",
       "      <th>20367</th>\n",
       "      <td>2020-04-01 23:50:03</td>\n",
       "      <td>11</td>\n",
       "      <td>91.725706</td>\n",
       "      <td>0.725706</td>\n",
       "      <td>2</td>\n",
       "    </tr>\n",
       "    <tr>\n",
       "      <th>20368</th>\n",
       "      <td>2020-04-01 23:55:02</td>\n",
       "      <td>11</td>\n",
       "      <td>91.729167</td>\n",
       "      <td>0.729167</td>\n",
       "      <td>2</td>\n",
       "    </tr>\n",
       "  </tbody>\n",
       "</table>\n",
       "<p>18490 rows × 5 columns</p>\n",
       "</div>"
      ],
      "text/plain": [
       "                     TIME  AVAILABLE BIKES          T         t  WEEKDAY\n",
       "1879  2020-01-28 06:25:02               23  27.000000  0.000000        1\n",
       "1880  2020-01-28 06:30:27               23  27.003762  0.003762        1\n",
       "1881  2020-01-28 06:35:02               23  27.006944  0.006944        1\n",
       "1882  2020-01-28 06:40:02               23  27.010417  0.010417        1\n",
       "1883  2020-01-28 06:45:02               23  27.013889  0.013889        1\n",
       "...                   ...              ...        ...       ...      ...\n",
       "20364 2020-04-01 23:35:02               11  91.715278  0.715278        2\n",
       "20365 2020-04-01 23:40:02               11  91.718750  0.718750        2\n",
       "20366 2020-04-01 23:45:02               11  91.722222  0.722222        2\n",
       "20367 2020-04-01 23:50:03               11  91.725706  0.725706        2\n",
       "20368 2020-04-01 23:55:02               11  91.729167  0.729167        2\n",
       "\n",
       "[18490 rows x 5 columns]"
      ]
     },
     "execution_count": 4,
     "metadata": {},
     "output_type": "execute_result"
    }
   ],
   "source": [
    "# df1['t'] = df1['T'].apply(lambda x: x%1)\n",
    "# df1"
   ]
  },
  {
   "cell_type": "code",
   "execution_count": 5,
   "metadata": {},
   "outputs": [
    {
     "name": "stdout",
     "output_type": "stream",
     "text": [
      "sampling interval = 300.0 seconds\n"
     ]
    }
   ],
   "source": [
    "df2 = pd.read_csv('data/kilmainham.csv', usecols=[1,5])\n",
    "\n",
    "\n",
    "start = pd.to_datetime(str(min(df2.TIME)))   # 2020-01-01 06:25:02. Data only reliable after 2020-01-26.\n",
    "end = pd.to_datetime(str(max(df2.TIME)))     # 2020-04-01 23:55:02. \n",
    "start_date = start.date()\n",
    "end_date = end.date()\n",
    "\n",
    "t_start = pd.DatetimeIndex([start]).astype(np.int64)/1000000000\n",
    "t_end = pd.DatetimeIndex([end]).astype(np.int64)/1000000000\n",
    "\n",
    "\n",
    "t_full2=pd.array(pd.DatetimeIndex(df2.iloc[:,0]).astype(np.int64))/1000000000\n",
    "df2['T']=(t_full2-t_full2[0])/60/60/24 # convert timestamp to days\n",
    "df2['t'] = df2['T'].apply(lambda x: x % 1) # column that has a number that essentially equates to time.\n",
    "\n",
    "df2.drop(df2.loc[df2['T']<27].index, inplace=True)\n",
    "df2.drop(df2.loc[df2['T']>90].index, inplace=True)\n",
    "\n",
    "df2['WEEKDAY'] = pd.to_datetime(df2['TIME'])\n",
    "df2['WEEKDAY'] = df2['WEEKDAY'].dt.dayofweek\n",
    "# t = np.extract([(t_full>=t_start) & (t_full<=t_end)], t_full)\n",
    "dt = t_full[1] - t_full[0]\n",
    "print(f\"sampling interval = {dt} seconds\")\n",
    "\n"
   ]
  },
  {
   "cell_type": "markdown",
   "metadata": {},
   "source": [
    "need to decide training data size/dates"
   ]
  },
  {
   "cell_type": "code",
   "execution_count": 6,
   "metadata": {},
   "outputs": [
    {
     "data": {
      "text/plain": [
       "Text(0, 0.5, 'Number of Available Bikes')"
      ]
     },
     "execution_count": 6,
     "metadata": {},
     "output_type": "execute_result"
    },
    {
     "data": {
      "image/png": "[encoded data removed]",
      "text/plain": [
       "<Figure size 432x288 with 1 Axes>"
      ]
     },
     "metadata": {
      "needs_background": "light"
     },
     "output_type": "display_data"
    },
    {
     "data": {
      "image/png": "[encoded data removed]",
      "text/plain": [
       "<Figure size 432x288 with 1 Axes>"
      ]
     },
     "metadata": {
      "needs_background": "light"
     },
     "output_type": "display_data"
    }
   ],
   "source": [
    "plt.figure('Buckingham')\n",
    "plt.scatter(df1['T'], df1['AVAILABLE BIKES'],marker='.')\n",
    "plt.title(\"Buckingham Street\")\n",
    "plt.xlabel(\"Time (days)\")\n",
    "plt.ylabel(\"Number of Available Bikes\")\n",
    "# pylab.xlim(27, 90)\n",
    "\n",
    "plt.figure('Kilmainham')\n",
    "plt.scatter(df2['T'], df2['AVAILABLE BIKES'],marker='.')\n",
    "plt.title(\"Kilmainham Gaol\")\n",
    "plt.xlabel(\"Time (days)\")\n",
    "plt.ylabel(\"Number of Available Bikes\")\n",
    "# pylab.xlim(0, 90)"
   ]
  },
  {
   "cell_type": "code",
   "execution_count": 7,
   "metadata": {},
   "outputs": [
    {
     "data": {
      "text/plain": [
       "(288, 5)"
      ]
     },
     "execution_count": 7,
     "metadata": {},
     "output_type": "execute_result"
    }
   ],
   "source": [
    "day = 47 # simple way to find out how many datapoints are in one of the days.\n",
    "np.shape(df1.loc[(df1['T']<=day) & (df1['T']> day - 1)])\n"
   ]
  },
  {
   "cell_type": "code",
   "execution_count": null,
   "metadata": {},
   "outputs": [],
   "source": []
  },
  {
   "cell_type": "markdown",
   "metadata": {},
   "source": [
    "### 10 min ahead features"
   ]
  },
  {
   "cell_type": "code",
   "execution_count": 8,
   "metadata": {},
   "outputs": [
    {
     "data": {
      "text/html": [
       "<div>\n",
       "<style scoped>\n",
       "    .dataframe tbody tr th:only-of-type {\n",
       "        vertical-align: middle;\n",
       "    }\n",
       "\n",
       "    .dataframe tbody tr th {\n",
       "        vertical-align: top;\n",
       "    }\n",
       "\n",
       "    .dataframe thead th {\n",
       "        text-align: right;\n",
       "    }\n",
       "</style>\n",
       "<table border=\"1\" class=\"dataframe\">\n",
       "  <thead>\n",
       "    <tr style=\"text-align: right;\">\n",
       "      <th></th>\n",
       "      <th>B10</th>\n",
       "    </tr>\n",
       "  </thead>\n",
       "  <tbody>\n",
       "    <tr>\n",
       "      <th>0</th>\n",
       "      <td>0</td>\n",
       "    </tr>\n",
       "    <tr>\n",
       "      <th>1</th>\n",
       "      <td>0</td>\n",
       "    </tr>\n",
       "    <tr>\n",
       "      <th>2</th>\n",
       "      <td>23</td>\n",
       "    </tr>\n",
       "    <tr>\n",
       "      <th>3</th>\n",
       "      <td>23</td>\n",
       "    </tr>\n",
       "    <tr>\n",
       "      <th>4</th>\n",
       "      <td>23</td>\n",
       "    </tr>\n",
       "    <tr>\n",
       "      <th>...</th>\n",
       "      <td>...</td>\n",
       "    </tr>\n",
       "    <tr>\n",
       "      <th>18485</th>\n",
       "      <td>11</td>\n",
       "    </tr>\n",
       "    <tr>\n",
       "      <th>18486</th>\n",
       "      <td>11</td>\n",
       "    </tr>\n",
       "    <tr>\n",
       "      <th>18487</th>\n",
       "      <td>11</td>\n",
       "    </tr>\n",
       "    <tr>\n",
       "      <th>18488</th>\n",
       "      <td>11</td>\n",
       "    </tr>\n",
       "    <tr>\n",
       "      <th>18489</th>\n",
       "      <td>11</td>\n",
       "    </tr>\n",
       "  </tbody>\n",
       "</table>\n",
       "<p>18490 rows × 1 columns</p>\n",
       "</div>"
      ],
      "text/plain": [
       "       B10\n",
       "0        0\n",
       "1        0\n",
       "2       23\n",
       "3       23\n",
       "4       23\n",
       "...    ...\n",
       "18485   11\n",
       "18486   11\n",
       "18487   11\n",
       "18488   11\n",
       "18489   11\n",
       "\n",
       "[18490 rows x 1 columns]"
      ]
     },
     "execution_count": 8,
     "metadata": {},
     "output_type": "execute_result"
    }
   ],
   "source": [
    "T10 = misc.make_features(periods = 2, dataframe=df1,col='T',name='T10')\n",
    "B10 = misc.make_features(periods = 2, dataframe=df1,col='AVAILABLE BIKES',name='B10')\n",
    "B10\n",
    "# five_before.reset_index(inplace = True)\n",
    "# five_before.drop(columns=['index'])"
   ]
  },
  {
   "cell_type": "markdown",
   "metadata": {},
   "source": [
    "### 30 min ahead features"
   ]
  },
  {
   "cell_type": "code",
   "execution_count": null,
   "metadata": {},
   "outputs": [],
   "source": []
  },
  {
   "cell_type": "markdown",
   "metadata": {},
   "source": [
    "### 60 min ahead features"
   ]
  }
 ],
 "metadata": {
  "interpreter": {
   "hash": "eb3c8892de2db7fad7dda1405878965bd170cb28ec70e3c0bc8ed3e1088822dc"
  },
  "kernelspec": {
   "display_name": "Python 3.8.5 64-bit ('base': conda)",
   "language": "python",
   "name": "python3"
  },
  "language_info": {
   "codemirror_mode": {
    "name": "ipython",
    "version": 3
   },
   "file_extension": ".py",
   "mimetype": "text/x-python",
   "name": "python",
   "nbconvert_exporter": "python",
   "pygments_lexer": "ipython3",
   "version": "3.8.5"
  },
  "orig_nbformat": 4
 },
 "nbformat": 4,
 "nbformat_minor": 2
}
