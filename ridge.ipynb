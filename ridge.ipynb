{
 "cells": [
  {
   "cell_type": "code",
   "execution_count": 1,
   "metadata": {},
   "outputs": [],
   "source": [
    "import matplotlib.pyplot as plt\n",
    "import numpy as np\n",
    "import pandas as pd\n",
    "from sklearn.linear_model import Ridge\n",
    "from sklearn.model_selection import KFold, train_test_split\n",
    "\n",
    "import functions.ml_functions as ml\n",
    "import functions.misc_functions as misc\n",
    "import functions.metrics as mtr"
   ]
  },
  {
   "cell_type": "markdown",
   "metadata": {},
   "source": [
    "datasets with a 1 are buckingham street  \n",
    "datasets with a 2 are kilmainham gaol"
   ]
  },
  {
   "cell_type": "code",
   "execution_count": 2,
   "metadata": {},
   "outputs": [],
   "source": [
    "ten1 = pd.read_csv('data/ten_min.csv')\n",
    "ten2 = pd.read_csv('data/ten_min_2.csv')\n",
    "thirty1 = pd.read_csv('data/thirty_min.csv')\n",
    "thirty2 = pd.read_csv('data/thirty_min_2.csv')\n",
    "sixty1 = pd.read_csv('data/sixty_min.csv')\n",
    "sixty2 = pd.read_csv('data/sixty_min_2.csv')"
   ]
  },
  {
   "cell_type": "code",
   "execution_count": 3,
   "metadata": {},
   "outputs": [],
   "source": [
    "df1 = ten1\n",
    "df2 = ten2\n",
    "df3 = thirty1\n",
    "df4 = thirty2\n",
    "df5 = sixty1\n",
    "df6 = sixty2"
   ]
  },
  {
   "cell_type": "code",
   "execution_count": 4,
   "metadata": {},
   "outputs": [
    {
     "data": {
      "text/html": [
       "<div>\n",
       "<style scoped>\n",
       "    .dataframe tbody tr th:only-of-type {\n",
       "        vertical-align: middle;\n",
       "    }\n",
       "\n",
       "    .dataframe tbody tr th {\n",
       "        vertical-align: top;\n",
       "    }\n",
       "\n",
       "    .dataframe thead th {\n",
       "        text-align: right;\n",
       "    }\n",
       "</style>\n",
       "<table border=\"1\" class=\"dataframe\">\n",
       "  <thead>\n",
       "    <tr style=\"text-align: right;\">\n",
       "      <th></th>\n",
       "      <th>Unnamed: 0</th>\n",
       "      <th>AVAILABLE BIKES</th>\n",
       "      <th>t</th>\n",
       "      <th>Monday</th>\n",
       "      <th>Tuesday</th>\n",
       "      <th>Wednesday</th>\n",
       "      <th>Thursday</th>\n",
       "      <th>Friday</th>\n",
       "      <th>Saturday</th>\n",
       "      <th>Sunday</th>\n",
       "      <th>B60</th>\n",
       "      <th>B65</th>\n",
       "      <th>B70</th>\n",
       "      <th>B75</th>\n",
       "      <th>B80</th>\n",
       "      <th>DB1</th>\n",
       "      <th>DB2</th>\n",
       "      <th>DDB1DB2</th>\n",
       "    </tr>\n",
       "  </thead>\n",
       "  <tbody>\n",
       "    <tr>\n",
       "      <th>0</th>\n",
       "      <td>16</td>\n",
       "      <td>20</td>\n",
       "      <td>0.055556</td>\n",
       "      <td>0</td>\n",
       "      <td>1</td>\n",
       "      <td>0</td>\n",
       "      <td>0</td>\n",
       "      <td>0</td>\n",
       "      <td>0</td>\n",
       "      <td>0</td>\n",
       "      <td>23</td>\n",
       "      <td>23</td>\n",
       "      <td>23</td>\n",
       "      <td>23</td>\n",
       "      <td>23</td>\n",
       "      <td>0</td>\n",
       "      <td>0</td>\n",
       "      <td>0</td>\n",
       "    </tr>\n",
       "    <tr>\n",
       "      <th>1</th>\n",
       "      <td>17</td>\n",
       "      <td>20</td>\n",
       "      <td>0.059028</td>\n",
       "      <td>0</td>\n",
       "      <td>1</td>\n",
       "      <td>0</td>\n",
       "      <td>0</td>\n",
       "      <td>0</td>\n",
       "      <td>0</td>\n",
       "      <td>0</td>\n",
       "      <td>22</td>\n",
       "      <td>23</td>\n",
       "      <td>23</td>\n",
       "      <td>23</td>\n",
       "      <td>23</td>\n",
       "      <td>1</td>\n",
       "      <td>0</td>\n",
       "      <td>-1</td>\n",
       "    </tr>\n",
       "    <tr>\n",
       "      <th>2</th>\n",
       "      <td>18</td>\n",
       "      <td>19</td>\n",
       "      <td>0.062500</td>\n",
       "      <td>0</td>\n",
       "      <td>1</td>\n",
       "      <td>0</td>\n",
       "      <td>0</td>\n",
       "      <td>0</td>\n",
       "      <td>0</td>\n",
       "      <td>0</td>\n",
       "      <td>22</td>\n",
       "      <td>22</td>\n",
       "      <td>23</td>\n",
       "      <td>23</td>\n",
       "      <td>23</td>\n",
       "      <td>0</td>\n",
       "      <td>1</td>\n",
       "      <td>1</td>\n",
       "    </tr>\n",
       "    <tr>\n",
       "      <th>3</th>\n",
       "      <td>19</td>\n",
       "      <td>18</td>\n",
       "      <td>0.065972</td>\n",
       "      <td>0</td>\n",
       "      <td>1</td>\n",
       "      <td>0</td>\n",
       "      <td>0</td>\n",
       "      <td>0</td>\n",
       "      <td>0</td>\n",
       "      <td>0</td>\n",
       "      <td>22</td>\n",
       "      <td>22</td>\n",
       "      <td>22</td>\n",
       "      <td>23</td>\n",
       "      <td>23</td>\n",
       "      <td>0</td>\n",
       "      <td>0</td>\n",
       "      <td>0</td>\n",
       "    </tr>\n",
       "    <tr>\n",
       "      <th>4</th>\n",
       "      <td>20</td>\n",
       "      <td>17</td>\n",
       "      <td>0.069444</td>\n",
       "      <td>0</td>\n",
       "      <td>1</td>\n",
       "      <td>0</td>\n",
       "      <td>0</td>\n",
       "      <td>0</td>\n",
       "      <td>0</td>\n",
       "      <td>0</td>\n",
       "      <td>22</td>\n",
       "      <td>22</td>\n",
       "      <td>22</td>\n",
       "      <td>22</td>\n",
       "      <td>23</td>\n",
       "      <td>0</td>\n",
       "      <td>0</td>\n",
       "      <td>0</td>\n",
       "    </tr>\n",
       "    <tr>\n",
       "      <th>...</th>\n",
       "      <td>...</td>\n",
       "      <td>...</td>\n",
       "      <td>...</td>\n",
       "      <td>...</td>\n",
       "      <td>...</td>\n",
       "      <td>...</td>\n",
       "      <td>...</td>\n",
       "      <td>...</td>\n",
       "      <td>...</td>\n",
       "      <td>...</td>\n",
       "      <td>...</td>\n",
       "      <td>...</td>\n",
       "      <td>...</td>\n",
       "      <td>...</td>\n",
       "      <td>...</td>\n",
       "      <td>...</td>\n",
       "      <td>...</td>\n",
       "      <td>...</td>\n",
       "    </tr>\n",
       "    <tr>\n",
       "      <th>17970</th>\n",
       "      <td>17986</td>\n",
       "      <td>14</td>\n",
       "      <td>0.982639</td>\n",
       "      <td>0</td>\n",
       "      <td>1</td>\n",
       "      <td>0</td>\n",
       "      <td>0</td>\n",
       "      <td>0</td>\n",
       "      <td>0</td>\n",
       "      <td>0</td>\n",
       "      <td>14</td>\n",
       "      <td>14</td>\n",
       "      <td>14</td>\n",
       "      <td>14</td>\n",
       "      <td>14</td>\n",
       "      <td>0</td>\n",
       "      <td>0</td>\n",
       "      <td>0</td>\n",
       "    </tr>\n",
       "    <tr>\n",
       "      <th>17971</th>\n",
       "      <td>17987</td>\n",
       "      <td>14</td>\n",
       "      <td>0.986111</td>\n",
       "      <td>0</td>\n",
       "      <td>1</td>\n",
       "      <td>0</td>\n",
       "      <td>0</td>\n",
       "      <td>0</td>\n",
       "      <td>0</td>\n",
       "      <td>0</td>\n",
       "      <td>14</td>\n",
       "      <td>14</td>\n",
       "      <td>14</td>\n",
       "      <td>14</td>\n",
       "      <td>14</td>\n",
       "      <td>0</td>\n",
       "      <td>0</td>\n",
       "      <td>0</td>\n",
       "    </tr>\n",
       "    <tr>\n",
       "      <th>17972</th>\n",
       "      <td>17988</td>\n",
       "      <td>14</td>\n",
       "      <td>0.989583</td>\n",
       "      <td>0</td>\n",
       "      <td>1</td>\n",
       "      <td>0</td>\n",
       "      <td>0</td>\n",
       "      <td>0</td>\n",
       "      <td>0</td>\n",
       "      <td>0</td>\n",
       "      <td>14</td>\n",
       "      <td>14</td>\n",
       "      <td>14</td>\n",
       "      <td>14</td>\n",
       "      <td>14</td>\n",
       "      <td>0</td>\n",
       "      <td>0</td>\n",
       "      <td>0</td>\n",
       "    </tr>\n",
       "    <tr>\n",
       "      <th>17973</th>\n",
       "      <td>17989</td>\n",
       "      <td>14</td>\n",
       "      <td>0.993056</td>\n",
       "      <td>0</td>\n",
       "      <td>1</td>\n",
       "      <td>0</td>\n",
       "      <td>0</td>\n",
       "      <td>0</td>\n",
       "      <td>0</td>\n",
       "      <td>0</td>\n",
       "      <td>14</td>\n",
       "      <td>14</td>\n",
       "      <td>14</td>\n",
       "      <td>14</td>\n",
       "      <td>14</td>\n",
       "      <td>0</td>\n",
       "      <td>0</td>\n",
       "      <td>0</td>\n",
       "    </tr>\n",
       "    <tr>\n",
       "      <th>17974</th>\n",
       "      <td>17990</td>\n",
       "      <td>14</td>\n",
       "      <td>0.996539</td>\n",
       "      <td>0</td>\n",
       "      <td>1</td>\n",
       "      <td>0</td>\n",
       "      <td>0</td>\n",
       "      <td>0</td>\n",
       "      <td>0</td>\n",
       "      <td>0</td>\n",
       "      <td>14</td>\n",
       "      <td>14</td>\n",
       "      <td>14</td>\n",
       "      <td>14</td>\n",
       "      <td>14</td>\n",
       "      <td>0</td>\n",
       "      <td>0</td>\n",
       "      <td>0</td>\n",
       "    </tr>\n",
       "  </tbody>\n",
       "</table>\n",
       "<p>17975 rows × 18 columns</p>\n",
       "</div>"
      ],
      "text/plain": [
       "       Unnamed: 0  AVAILABLE BIKES         t  Monday  Tuesday  Wednesday  \\\n",
       "0              16               20  0.055556       0        1          0   \n",
       "1              17               20  0.059028       0        1          0   \n",
       "2              18               19  0.062500       0        1          0   \n",
       "3              19               18  0.065972       0        1          0   \n",
       "4              20               17  0.069444       0        1          0   \n",
       "...           ...              ...       ...     ...      ...        ...   \n",
       "17970       17986               14  0.982639       0        1          0   \n",
       "17971       17987               14  0.986111       0        1          0   \n",
       "17972       17988               14  0.989583       0        1          0   \n",
       "17973       17989               14  0.993056       0        1          0   \n",
       "17974       17990               14  0.996539       0        1          0   \n",
       "\n",
       "       Thursday  Friday  Saturday  Sunday  B60  B65  B70  B75  B80  DB1  DB2  \\\n",
       "0             0       0         0       0   23   23   23   23   23    0    0   \n",
       "1             0       0         0       0   22   23   23   23   23    1    0   \n",
       "2             0       0         0       0   22   22   23   23   23    0    1   \n",
       "3             0       0         0       0   22   22   22   23   23    0    0   \n",
       "4             0       0         0       0   22   22   22   22   23    0    0   \n",
       "...         ...     ...       ...     ...  ...  ...  ...  ...  ...  ...  ...   \n",
       "17970         0       0         0       0   14   14   14   14   14    0    0   \n",
       "17971         0       0         0       0   14   14   14   14   14    0    0   \n",
       "17972         0       0         0       0   14   14   14   14   14    0    0   \n",
       "17973         0       0         0       0   14   14   14   14   14    0    0   \n",
       "17974         0       0         0       0   14   14   14   14   14    0    0   \n",
       "\n",
       "       DDB1DB2  \n",
       "0            0  \n",
       "1           -1  \n",
       "2            1  \n",
       "3            0  \n",
       "4            0  \n",
       "...        ...  \n",
       "17970        0  \n",
       "17971        0  \n",
       "17972        0  \n",
       "17973        0  \n",
       "17974        0  \n",
       "\n",
       "[17975 rows x 18 columns]"
      ]
     },
     "execution_count": 4,
     "metadata": {},
     "output_type": "execute_result"
    }
   ],
   "source": [
    "df5"
   ]
  },
  {
   "cell_type": "code",
   "execution_count": 5,
   "metadata": {},
   "outputs": [],
   "source": [
    "def train_ridge(input_features, target_feature, alpha_value):\n",
    "    \"\"\"\n",
    "    Fits a ridge regressor to a set of data\n",
    "    Parameters\n",
    "    ----------\n",
    "    input_features : numpy.ndarray\n",
    "        features\n",
    "    target_feature : numpy.ndarray\n",
    "        target features\n",
    "    alpha_value : float\n",
    "        used to determine strength of regularisation\n",
    "    Returns\n",
    "    ----------\n",
    "    model : linear_model.Ridge\n",
    "    \"\"\"\n",
    "    ### train a Ridge regression model.\n",
    "    ### alpha seems to be approximately 1/c\n",
    "    ### https://stats.stackexchange.com/questions/216095/how-does-alpha-relate-to-c-in-scikit-learns-sgdclassifier\n",
    "    model = Ridge(alpha=alpha_value, max_iter=1000000000)\n",
    "    model.fit(input_features, target_feature)\n",
    "    # print('coeffs =',model.coef_)\n",
    "    return model"
   ]
  },
  {
   "cell_type": "code",
   "execution_count": 6,
   "metadata": {},
   "outputs": [],
   "source": [
    "def stack_features(df:pd.DataFrame):\n",
    "    X1 = df.iloc[:, 2]\n",
    "    X2 = df.iloc[:, 3]\n",
    "    X3 = df.iloc[:, 4]\n",
    "    X4 = df.iloc[:, 5]\n",
    "    X5 = df.iloc[:, 6]\n",
    "    X6 = df.iloc[:, 7]\n",
    "    X7 = df.iloc[:,8]\n",
    "    X8 = df.iloc[:, 9]\n",
    "    X9 = df.iloc[:, 10]\n",
    "    X10 = df.iloc[:, 11]\n",
    "    X11 = df.iloc[:, 12]\n",
    "    X12 = df.iloc[:,13]\n",
    "    X13 = df.iloc[:, 14]\n",
    "    X14 = df.iloc[:, 15]\n",
    "    X15 = df.iloc[:,16]\n",
    "    X16 = df.iloc[:, 17]\n",
    "    X = np.column_stack((X1, X2, X3, X4, X5, X6, X7, X8, X9, X10, X11, X12, X13, X14, X15, X16))\n",
    "\n",
    "    Y = df.iloc[:, 1]\n",
    "    return X, Y"
   ]
  },
  {
   "cell_type": "code",
   "execution_count": 7,
   "metadata": {},
   "outputs": [],
   "source": [
    "X1, Y1 =stack_features(df1) \n",
    "X2, Y2 = stack_features(df2)\n",
    "X3, Y3 =stack_features(df3) \n",
    "X4, Y4 = stack_features(df4)\n",
    "X5, Y5 =stack_features(df5) \n",
    "X6, Y6 = stack_features(df6)\n"
   ]
  },
  {
   "cell_type": "code",
   "execution_count": 8,
   "metadata": {},
   "outputs": [
    {
     "data": {
      "text/plain": [
       "array([[ 0.03472222,  0.        ,  1.        , ...,  0.        ,\n",
       "         0.        ,  0.        ],\n",
       "       [ 0.03819444,  0.        ,  1.        , ...,  1.        ,\n",
       "         0.        , -1.        ],\n",
       "       [ 0.04166667,  0.        ,  1.        , ...,  0.        ,\n",
       "         1.        ,  1.        ],\n",
       "       ...,\n",
       "       [ 0.98958333,  0.        ,  1.        , ...,  0.        ,\n",
       "         0.        ,  0.        ],\n",
       "       [ 0.99305556,  0.        ,  1.        , ...,  0.        ,\n",
       "         0.        ,  0.        ],\n",
       "       [ 0.99653935,  0.        ,  1.        , ...,  0.        ,\n",
       "         0.        ,  0.        ]])"
      ]
     },
     "execution_count": 8,
     "metadata": {},
     "output_type": "execute_result"
    }
   ],
   "source": [
    "X3"
   ]
  },
  {
   "cell_type": "code",
   "execution_count": 9,
   "metadata": {},
   "outputs": [
    {
     "data": {
      "text/plain": [
       "array([[ 0.03472222,  0.        ,  1.        , ...,  0.        ,\n",
       "         2.        ,  2.        ],\n",
       "       [ 0.03819444,  0.        ,  1.        , ...,  1.        ,\n",
       "         0.        , -1.        ],\n",
       "       [ 0.04166667,  0.        ,  1.        , ...,  0.        ,\n",
       "         1.        ,  1.        ],\n",
       "       ...,\n",
       "       [ 0.98958333,  0.        ,  1.        , ...,  0.        ,\n",
       "         0.        ,  0.        ],\n",
       "       [ 0.99305556,  0.        ,  1.        , ...,  0.        ,\n",
       "         0.        ,  0.        ],\n",
       "       [ 0.99653935,  0.        ,  1.        , ...,  1.        ,\n",
       "         0.        , -1.        ]])"
      ]
     },
     "execution_count": 9,
     "metadata": {},
     "output_type": "execute_result"
    }
   ],
   "source": [
    "X4"
   ]
  },
  {
   "cell_type": "code",
   "execution_count": 10,
   "metadata": {},
   "outputs": [],
   "source": [
    "def train_Kfold_ridge(X_features, y_features, c_value):\n",
    "    \"\"\"\n",
    "    Uses K-fold cross validation \n",
    "    Parameters\n",
    "    ----------\n",
    "    X_features : array \n",
    "        features\n",
    "    y_features : array\n",
    "        target features\n",
    "    c_value : float\n",
    "        parameter for training\n",
    "    Returns\n",
    "    ----------\n",
    "    mean error : float\n",
    "    standard error : float\n",
    "    \"\"\"\n",
    "    kf = KFold(n_splits=5)\n",
    "    model = Ridge(alpha=1/(2*c_value))\n",
    "    errs = []\n",
    "    # model = linear_model.Lasso(alpha=1/(2*c_value), max_iter=1000000000).fit()\n",
    "    for train, test in kf.split(X_features):\n",
    "        model.fit(X_features[train],y_features[train])\n",
    "        ypred = model.predict(X_features[test])\n",
    "        from sklearn.metrics import mean_squared_error\n",
    "        # print(\"square error %f\"%(mean_squared_error(y_features[test],ypred)))\n",
    "        errs.append(mean_squared_error(y_features[test],ypred))\n",
    "    # print(np.mean(errs))\n",
    "    return np.mean(errs), np.std(errs)"
   ]
  },
  {
   "cell_type": "code",
   "execution_count": 11,
   "metadata": {},
   "outputs": [],
   "source": [
    "def Kfold_for_C_ridge(X_features, y_features, C_range, title:str):\n",
    "    \"\"\"\n",
    "    Uses K-fold cross validation with varied values of C\n",
    "    Parameters\n",
    "    ----------\n",
    "    X_features : array \n",
    "        features\n",
    "    y_features : array\n",
    "        target features\n",
    "    C_range : array of float\n",
    "        parameters for training\n",
    "    Returns\n",
    "    ----------\n",
    "    nothing\n",
    "    \"\"\"\n",
    "    error_array = np.zeros(len(C_range))\n",
    "    std_dev_array = np.zeros(len(C_range))\n",
    "    for i in range(len(C_range)):\n",
    "        # print(\"\\n\\n C = %f\"%(C_range[i]))\n",
    "        error_array[i], std_dev_array[i] = train_Kfold_ridge(X_features, y_features, C_range[i])\n",
    "\n",
    "\n",
    "    # print(error_array)\n",
    "\n",
    "    plt.figure(title)\n",
    "    plt.errorbar(C_range, error_array, yerr=std_dev_array)\n",
    "    plt.xlabel('C value')\n",
    "    plt.ylabel('Mean Squared Error')\n",
    "    plt.title(title)\n",
    "    # x = np.arange(len(error_array))\n",
    "    # plt.bar(x, C_range, error_array)"
   ]
  },
  {
   "cell_type": "code",
   "execution_count": 12,
   "metadata": {},
   "outputs": [
    {
     "data": {
      "image/png": "[encoded data removed]",
      "text/plain": [
       "<Figure size 432x288 with 1 Axes>"
      ]
     },
     "metadata": {
      "needs_background": "light"
     },
     "output_type": "display_data"
    },
    {
     "data": {
      "image/png": "[encoded data removed]",
      "text/plain": [
       "<Figure size 432x288 with 1 Axes>"
      ]
     },
     "metadata": {
      "needs_background": "light"
     },
     "output_type": "display_data"
    }
   ],
   "source": [
    "C_range = np.linspace(0.00000000001, 5e-7,num=30)\n",
    "Kfold_for_C_ridge(X1,Y1,C_range, 'K-fold Cross Validation for Buckingham Street (10 mins in future)')\n",
    "C_range = np.linspace(0.00000000001, 3e-7,num=30)\n",
    "Kfold_for_C_ridge(X2,Y2,C_range, 'K-fold Cross Validation for Kilmainham Gaol (10 mins in future)')"
   ]
  },
  {
   "cell_type": "markdown",
   "metadata": {},
   "source": [
    "minimised by (around) 4e-7 for both"
   ]
  },
  {
   "cell_type": "code",
   "execution_count": 13,
   "metadata": {},
   "outputs": [
    {
     "data": {
      "image/png": "[encoded data removed]",
      "text/plain": [
       "<Figure size 432x288 with 1 Axes>"
      ]
     },
     "metadata": {
      "needs_background": "light"
     },
     "output_type": "display_data"
    },
    {
     "data": {
      "image/png": "[encoded data removed]",
      "text/plain": [
       "<Figure size 432x288 with 1 Axes>"
      ]
     },
     "metadata": {
      "needs_background": "light"
     },
     "output_type": "display_data"
    }
   ],
   "source": [
    "C_range = np.linspace(0.00000000001, 5e-7,num=30)\n",
    "Kfold_for_C_ridge(X3,Y3,C_range, 'K-fold Cross Validation for Buckingham Street (30 mins in future)')\n",
    "C_range = np.linspace(0.00000000001, 3e-7,num=30)\n",
    "Kfold_for_C_ridge(X4,Y4,C_range, 'K-fold Cross Validation for Kilmainham Gaol (30 mins in future)')"
   ]
  },
  {
   "cell_type": "code",
   "execution_count": 14,
   "metadata": {},
   "outputs": [
    {
     "data": {
      "image/png": "[encoded data removed]",
      "text/plain": [
       "<Figure size 432x288 with 1 Axes>"
      ]
     },
     "metadata": {
      "needs_background": "light"
     },
     "output_type": "display_data"
    },
    {
     "data": {
      "image/png": "[encoded data removed]",
      "text/plain": [
       "<Figure size 432x288 with 1 Axes>"
      ]
     },
     "metadata": {
      "needs_background": "light"
     },
     "output_type": "display_data"
    }
   ],
   "source": [
    "C_range = np.linspace(0.00000000001, 5e-7,num=30)\n",
    "Kfold_for_C_ridge(X5,Y5,C_range, 'K-fold Cross Validation for Buckingham Street (60 mins in future)')\n",
    "C_range = np.linspace(0.00000000001, 3e-7,num=30)\n",
    "Kfold_for_C_ridge(X6,Y6,C_range, 'K-fold Cross Validation for Kilmainham Gaol (60 mins in future)')"
   ]
  },
  {
   "cell_type": "markdown",
   "metadata": {},
   "source": [
    "It seems like they all have more or less the exact same curve  - this was a bug  \n",
    "when looking closer the further into the future values will undoubtedly have worse performance"
   ]
  },
  {
   "cell_type": "markdown",
   "metadata": {},
   "source": [
    "I now feel that I can use the same model for all 6 datasets,  \n",
    "For simplicity this translates to an alpha of 1.25e6"
   ]
  },
  {
   "cell_type": "code",
   "execution_count": 15,
   "metadata": {},
   "outputs": [],
   "source": [
    "# model = train_ridge(X1, Y1, 1.25e-8)\n",
    "# ml.generate_predictions(model, X1)"
   ]
  },
  {
   "cell_type": "code",
   "execution_count": 16,
   "metadata": {},
   "outputs": [],
   "source": [
    "X1_train, X1_test, y1_train, y1_test = train_test_split(X1, Y1, test_size=0.3, random_state=42)\n",
    "X2_train, X2_test, y2_train, y2_test = train_test_split(X2, Y2, test_size=0.3, random_state=42)\n",
    "X3_train, X3_test, y3_train, y3_test = train_test_split(X3, Y3, test_size=0.3, random_state=42)\n",
    "X4_train, X4_test, y4_train, y4_test = train_test_split(X4, Y4, test_size=0.3, random_state=42)\n",
    "X5_train, X5_test, y5_train, y5_test = train_test_split(X5, Y5, test_size=0.3, random_state=42)\n",
    "X6_train, X6_test, y6_train, y6_test = train_test_split(X6, Y6, test_size=0.3, random_state=42)"
   ]
  },
  {
   "cell_type": "code",
   "execution_count": 24,
   "metadata": {},
   "outputs": [],
   "source": [
    "model1 = Ridge(alpha=1.25e6).fit(X1_train,y1_train)\n",
    "predictions1 = ml.generate_predictions(model1, X1_test)\n",
    "mse1 = mtr.calculate_mse(predictions1,y1_test)\n",
    "train_predictions1 = ml.generate_predictions(model1, X1_train)\n",
    "train_mse1 = mtr.calculate_mse(train_predictions1,y1_train)\n",
    "\n",
    "model2 = Ridge(alpha=5e6).fit(X2_train,y2_train)\n",
    "predictions2 = ml.generate_predictions(model2, X2_test)\n",
    "mse2 = mtr.calculate_mse(predictions2,y2_test)\n",
    "train_predictions2 = ml.generate_predictions(model2, X2_train)\n",
    "train_mse2 = mtr.calculate_mse(train_predictions2,y2_train)\n",
    "\n",
    "model3 = Ridge(alpha=1.25e6).fit(X3_train,y3_train)\n",
    "predictions3 = ml.generate_predictions(model3, X3_test)\n",
    "mse3 = mtr.calculate_mse(predictions3,y3_test)\n",
    "train_predictions3 = ml.generate_predictions(model3, X3_train)\n",
    "train_mse3 = mtr.calculate_mse(train_predictions3,y3_train)\n",
    "\n",
    "model4 = Ridge(alpha=5e6).fit(X4_train,y4_train)\n",
    "predictions4 = ml.generate_predictions(model4, X4_test)\n",
    "mse4 = mtr.calculate_mse(predictions4,y4_test)\n",
    "train_predictions4 = ml.generate_predictions(model4, X4_train)\n",
    "train_mse4 = mtr.calculate_mse(train_predictions4,y4_train)\n",
    "\n",
    "model5 = Ridge(alpha=1.25e6).fit(X5_train,y5_train)\n",
    "predictions5 = ml.generate_predictions(model5, X5_test)\n",
    "mse5 = mtr.calculate_mse(predictions5,y5_test)\n",
    "train_predictions5 = ml.generate_predictions(model5, X5_train)\n",
    "train_mse5 = mtr.calculate_mse(train_predictions5,y5_train)\n",
    "\n",
    "model6 = Ridge(alpha=5e6).fit(X6_train,y6_train)\n",
    "predictions6 = ml.generate_predictions(model6, X6_test)\n",
    "mse6 = mtr.calculate_mse(predictions6,y6_test)\n",
    "train_predictions6 = ml.generate_predictions(model6, X6_train)\n",
    "train_mse6 = mtr.calculate_mse(train_predictions6,y6_train)"
   ]
  },
  {
   "cell_type": "code",
   "execution_count": 18,
   "metadata": {},
   "outputs": [
    {
     "data": {
      "text/plain": [
       "4.683506004534059"
      ]
     },
     "execution_count": 18,
     "metadata": {},
     "output_type": "execute_result"
    }
   ],
   "source": [
    "train_mse1"
   ]
  },
  {
   "cell_type": "code",
   "execution_count": 19,
   "metadata": {},
   "outputs": [
    {
     "name": "stdout",
     "output_type": "stream",
     "text": [
      "[ 3.03327964e-03 -6.06014726e-04 -1.95519132e-04  3.06327222e-05\n",
      "  8.99752781e-05 -3.50883008e-04  6.22671177e-04  4.09137688e-04\n",
      "  1.65780313e-01  1.62009657e-01  1.58646526e-01  1.55785244e-01\n",
      "  1.53308596e-01 -3.77065649e-03 -3.36313096e-03  4.07525539e-04]\n",
      "[ 2.17317322e-03 -4.39134823e-04 -3.99511686e-04 -8.47496335e-05\n",
      " -7.50016944e-05 -3.78929620e-04  6.96183123e-04  6.81144334e-04\n",
      "  4.77709335e-02  4.82122840e-02  4.86646147e-02  4.92881557e-02\n",
      "  4.99537050e-02  4.41350535e-04  4.52330716e-04  1.09801808e-05]\n"
     ]
    }
   ],
   "source": [
    "print(model1.coef_)\n",
    "print(model2.coef_)"
   ]
  },
  {
   "cell_type": "code",
   "execution_count": 26,
   "metadata": {},
   "outputs": [
    {
     "name": "stdout",
     "output_type": "stream",
     "text": [
      "mse 1: 4.823101258632256, training mse = 4.683506004534059\n",
      "mse 2: 64.56017083949443, training mse = 64.55803971281681\n",
      "mse 3: 7.805132594506923, training mse = 7.4217296101181764\n",
      "mse 4: 64.74637867329281, training mse = 63.99229717596225\n",
      "mse 5: 13.425894211354745, training mse = 12.493075005106212\n",
      "mse 6: 64.14503951790617, training mse = 64.78606184182172\n"
     ]
    }
   ],
   "source": [
    "print(f\"mse 1: {mse1}, training mse = {train_mse1}\")\n",
    "print(f\"mse 2: {mse2}, training mse = {train_mse2}\")\n",
    "print(f\"mse 3: {mse3}, training mse = {train_mse3}\")\n",
    "print(f\"mse 4: {mse4}, training mse = {train_mse4}\")\n",
    "print(f\"mse 5: {mse5}, training mse = {train_mse5}\")\n",
    "print(f\"mse 6: {mse6}, training mse = {train_mse6}\")\n"
   ]
  },
  {
   "cell_type": "code",
   "execution_count": 27,
   "metadata": {},
   "outputs": [
    {
     "data": {
      "text/plain": [
       "array([11.11344413, 15.38202697, 11.8549346 , ..., 14.12598169,\n",
       "       25.90553112, 14.60994872])"
      ]
     },
     "execution_count": 27,
     "metadata": {},
     "output_type": "execute_result"
    }
   ],
   "source": [
    "predictions1"
   ]
  },
  {
   "cell_type": "code",
   "execution_count": 28,
   "metadata": {},
   "outputs": [
    {
     "data": {
      "text/plain": [
       "4767     11\n",
       "8373     15\n",
       "313       9\n",
       "6209     26\n",
       "11827    21\n",
       "         ..\n",
       "9634     17\n",
       "10250    14\n",
       "3312     14\n",
       "479      23\n",
       "1596     14\n",
       "Name: AVAILABLE BIKES, Length: 5396, dtype: int64"
      ]
     },
     "execution_count": 28,
     "metadata": {},
     "output_type": "execute_result"
    }
   ],
   "source": [
    "y1_test"
   ]
  }
 ],
 "metadata": {
  "interpreter": {
   "hash": "eb3c8892de2db7fad7dda1405878965bd170cb28ec70e3c0bc8ed3e1088822dc"
  },
  "kernelspec": {
   "display_name": "Python 3.8.5 64-bit ('base': conda)",
   "language": "python",
   "name": "python3"
  },
  "language_info": {
   "codemirror_mode": {
    "name": "ipython",
    "version": 3
   },
   "file_extension": ".py",
   "mimetype": "text/x-python",
   "name": "python",
   "nbconvert_exporter": "python",
   "pygments_lexer": "ipython3",
   "version": "3.8.5"
  },
  "orig_nbformat": 4
 },
 "nbformat": 4,
 "nbformat_minor": 2
}
