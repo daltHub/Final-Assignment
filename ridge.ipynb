{
 "cells": [
  {
   "cell_type": "code",
   "execution_count": 1,
   "metadata": {},
   "outputs": [],
   "source": [
    "import matplotlib.pyplot as plt\n",
    "import numpy as np\n",
    "import pandas as pd\n",
    "from sklearn.linear_model import Ridge\n",
    "from sklearn.model_selection import KFold, train_test_split\n",
    "\n",
    "import functions.ml_functions as ml\n",
    "import functions.misc_functions as misc\n",
    "import functions.metrics as mtr"
   ]
  },
  {
   "cell_type": "markdown",
   "metadata": {},
   "source": [
    "datasets with a 1 are buckingham street  \n",
    "datasets with a 2 are kilmainham gaol"
   ]
  },
  {
   "cell_type": "code",
   "execution_count": 2,
   "metadata": {},
   "outputs": [],
   "source": [
    "ten1 = pd.read_csv('data/ten_min.csv')\n",
    "ten2 = pd.read_csv('data/ten_min_2.csv')\n",
    "thirty1 = pd.read_csv('data/thirty_min.csv')\n",
    "thirty2 = pd.read_csv('data/thirty_min_2.csv')\n",
    "sixty1 = pd.read_csv('data/sixty_min.csv')\n",
    "sixty2 = pd.read_csv('data/sixty_min_2.csv')"
   ]
  },
  {
   "cell_type": "code",
   "execution_count": 3,
   "metadata": {},
   "outputs": [],
   "source": [
    "df1 = ten1\n",
    "df2 = ten2\n",
    "df3 = thirty1\n",
    "df4 = thirty2\n",
    "df5 = sixty1\n",
    "df6 = sixty2"
   ]
  },
  {
   "cell_type": "code",
   "execution_count": 4,
   "metadata": {},
   "outputs": [
    {
     "data": {
      "text/html": [
       "<div>\n",
       "<style scoped>\n",
       "    .dataframe tbody tr th:only-of-type {\n",
       "        vertical-align: middle;\n",
       "    }\n",
       "\n",
       "    .dataframe tbody tr th {\n",
       "        vertical-align: top;\n",
       "    }\n",
       "\n",
       "    .dataframe thead th {\n",
       "        text-align: right;\n",
       "    }\n",
       "</style>\n",
       "<table border=\"1\" class=\"dataframe\">\n",
       "  <thead>\n",
       "    <tr style=\"text-align: right;\">\n",
       "      <th></th>\n",
       "      <th>Unnamed: 0</th>\n",
       "      <th>AVAILABLE BIKES</th>\n",
       "      <th>t</th>\n",
       "      <th>Monday</th>\n",
       "      <th>Tuesday</th>\n",
       "      <th>Wednesday</th>\n",
       "      <th>Thursday</th>\n",
       "      <th>Friday</th>\n",
       "      <th>Saturday</th>\n",
       "      <th>Sunday</th>\n",
       "      <th>B60</th>\n",
       "      <th>B65</th>\n",
       "      <th>B70</th>\n",
       "      <th>B75</th>\n",
       "      <th>B80</th>\n",
       "      <th>DB1</th>\n",
       "      <th>DB2</th>\n",
       "      <th>DDB1DB2</th>\n",
       "    </tr>\n",
       "  </thead>\n",
       "  <tbody>\n",
       "    <tr>\n",
       "      <th>0</th>\n",
       "      <td>16</td>\n",
       "      <td>20</td>\n",
       "      <td>0.055556</td>\n",
       "      <td>0</td>\n",
       "      <td>1</td>\n",
       "      <td>0</td>\n",
       "      <td>0</td>\n",
       "      <td>0</td>\n",
       "      <td>0</td>\n",
       "      <td>0</td>\n",
       "      <td>23</td>\n",
       "      <td>23</td>\n",
       "      <td>23</td>\n",
       "      <td>23</td>\n",
       "      <td>23</td>\n",
       "      <td>0</td>\n",
       "      <td>0</td>\n",
       "      <td>0</td>\n",
       "    </tr>\n",
       "    <tr>\n",
       "      <th>1</th>\n",
       "      <td>17</td>\n",
       "      <td>20</td>\n",
       "      <td>0.059028</td>\n",
       "      <td>0</td>\n",
       "      <td>1</td>\n",
       "      <td>0</td>\n",
       "      <td>0</td>\n",
       "      <td>0</td>\n",
       "      <td>0</td>\n",
       "      <td>0</td>\n",
       "      <td>22</td>\n",
       "      <td>23</td>\n",
       "      <td>23</td>\n",
       "      <td>23</td>\n",
       "      <td>23</td>\n",
       "      <td>1</td>\n",
       "      <td>0</td>\n",
       "      <td>-1</td>\n",
       "    </tr>\n",
       "    <tr>\n",
       "      <th>2</th>\n",
       "      <td>18</td>\n",
       "      <td>19</td>\n",
       "      <td>0.062500</td>\n",
       "      <td>0</td>\n",
       "      <td>1</td>\n",
       "      <td>0</td>\n",
       "      <td>0</td>\n",
       "      <td>0</td>\n",
       "      <td>0</td>\n",
       "      <td>0</td>\n",
       "      <td>22</td>\n",
       "      <td>22</td>\n",
       "      <td>23</td>\n",
       "      <td>23</td>\n",
       "      <td>23</td>\n",
       "      <td>0</td>\n",
       "      <td>1</td>\n",
       "      <td>1</td>\n",
       "    </tr>\n",
       "    <tr>\n",
       "      <th>3</th>\n",
       "      <td>19</td>\n",
       "      <td>18</td>\n",
       "      <td>0.065972</td>\n",
       "      <td>0</td>\n",
       "      <td>1</td>\n",
       "      <td>0</td>\n",
       "      <td>0</td>\n",
       "      <td>0</td>\n",
       "      <td>0</td>\n",
       "      <td>0</td>\n",
       "      <td>22</td>\n",
       "      <td>22</td>\n",
       "      <td>22</td>\n",
       "      <td>23</td>\n",
       "      <td>23</td>\n",
       "      <td>0</td>\n",
       "      <td>0</td>\n",
       "      <td>0</td>\n",
       "    </tr>\n",
       "    <tr>\n",
       "      <th>4</th>\n",
       "      <td>20</td>\n",
       "      <td>17</td>\n",
       "      <td>0.069444</td>\n",
       "      <td>0</td>\n",
       "      <td>1</td>\n",
       "      <td>0</td>\n",
       "      <td>0</td>\n",
       "      <td>0</td>\n",
       "      <td>0</td>\n",
       "      <td>0</td>\n",
       "      <td>22</td>\n",
       "      <td>22</td>\n",
       "      <td>22</td>\n",
       "      <td>22</td>\n",
       "      <td>23</td>\n",
       "      <td>0</td>\n",
       "      <td>0</td>\n",
       "      <td>0</td>\n",
       "    </tr>\n",
       "    <tr>\n",
       "      <th>...</th>\n",
       "      <td>...</td>\n",
       "      <td>...</td>\n",
       "      <td>...</td>\n",
       "      <td>...</td>\n",
       "      <td>...</td>\n",
       "      <td>...</td>\n",
       "      <td>...</td>\n",
       "      <td>...</td>\n",
       "      <td>...</td>\n",
       "      <td>...</td>\n",
       "      <td>...</td>\n",
       "      <td>...</td>\n",
       "      <td>...</td>\n",
       "      <td>...</td>\n",
       "      <td>...</td>\n",
       "      <td>...</td>\n",
       "      <td>...</td>\n",
       "      <td>...</td>\n",
       "    </tr>\n",
       "    <tr>\n",
       "      <th>17970</th>\n",
       "      <td>17986</td>\n",
       "      <td>14</td>\n",
       "      <td>0.982639</td>\n",
       "      <td>0</td>\n",
       "      <td>1</td>\n",
       "      <td>0</td>\n",
       "      <td>0</td>\n",
       "      <td>0</td>\n",
       "      <td>0</td>\n",
       "      <td>0</td>\n",
       "      <td>14</td>\n",
       "      <td>14</td>\n",
       "      <td>14</td>\n",
       "      <td>14</td>\n",
       "      <td>14</td>\n",
       "      <td>0</td>\n",
       "      <td>0</td>\n",
       "      <td>0</td>\n",
       "    </tr>\n",
       "    <tr>\n",
       "      <th>17971</th>\n",
       "      <td>17987</td>\n",
       "      <td>14</td>\n",
       "      <td>0.986111</td>\n",
       "      <td>0</td>\n",
       "      <td>1</td>\n",
       "      <td>0</td>\n",
       "      <td>0</td>\n",
       "      <td>0</td>\n",
       "      <td>0</td>\n",
       "      <td>0</td>\n",
       "      <td>14</td>\n",
       "      <td>14</td>\n",
       "      <td>14</td>\n",
       "      <td>14</td>\n",
       "      <td>14</td>\n",
       "      <td>0</td>\n",
       "      <td>0</td>\n",
       "      <td>0</td>\n",
       "    </tr>\n",
       "    <tr>\n",
       "      <th>17972</th>\n",
       "      <td>17988</td>\n",
       "      <td>14</td>\n",
       "      <td>0.989583</td>\n",
       "      <td>0</td>\n",
       "      <td>1</td>\n",
       "      <td>0</td>\n",
       "      <td>0</td>\n",
       "      <td>0</td>\n",
       "      <td>0</td>\n",
       "      <td>0</td>\n",
       "      <td>14</td>\n",
       "      <td>14</td>\n",
       "      <td>14</td>\n",
       "      <td>14</td>\n",
       "      <td>14</td>\n",
       "      <td>0</td>\n",
       "      <td>0</td>\n",
       "      <td>0</td>\n",
       "    </tr>\n",
       "    <tr>\n",
       "      <th>17973</th>\n",
       "      <td>17989</td>\n",
       "      <td>14</td>\n",
       "      <td>0.993056</td>\n",
       "      <td>0</td>\n",
       "      <td>1</td>\n",
       "      <td>0</td>\n",
       "      <td>0</td>\n",
       "      <td>0</td>\n",
       "      <td>0</td>\n",
       "      <td>0</td>\n",
       "      <td>14</td>\n",
       "      <td>14</td>\n",
       "      <td>14</td>\n",
       "      <td>14</td>\n",
       "      <td>14</td>\n",
       "      <td>0</td>\n",
       "      <td>0</td>\n",
       "      <td>0</td>\n",
       "    </tr>\n",
       "    <tr>\n",
       "      <th>17974</th>\n",
       "      <td>17990</td>\n",
       "      <td>14</td>\n",
       "      <td>0.996539</td>\n",
       "      <td>0</td>\n",
       "      <td>1</td>\n",
       "      <td>0</td>\n",
       "      <td>0</td>\n",
       "      <td>0</td>\n",
       "      <td>0</td>\n",
       "      <td>0</td>\n",
       "      <td>14</td>\n",
       "      <td>14</td>\n",
       "      <td>14</td>\n",
       "      <td>14</td>\n",
       "      <td>14</td>\n",
       "      <td>0</td>\n",
       "      <td>0</td>\n",
       "      <td>0</td>\n",
       "    </tr>\n",
       "  </tbody>\n",
       "</table>\n",
       "<p>17975 rows × 18 columns</p>\n",
       "</div>"
      ],
      "text/plain": [
       "       Unnamed: 0  AVAILABLE BIKES         t  Monday  Tuesday  Wednesday  \\\n",
       "0              16               20  0.055556       0        1          0   \n",
       "1              17               20  0.059028       0        1          0   \n",
       "2              18               19  0.062500       0        1          0   \n",
       "3              19               18  0.065972       0        1          0   \n",
       "4              20               17  0.069444       0        1          0   \n",
       "...           ...              ...       ...     ...      ...        ...   \n",
       "17970       17986               14  0.982639       0        1          0   \n",
       "17971       17987               14  0.986111       0        1          0   \n",
       "17972       17988               14  0.989583       0        1          0   \n",
       "17973       17989               14  0.993056       0        1          0   \n",
       "17974       17990               14  0.996539       0        1          0   \n",
       "\n",
       "       Thursday  Friday  Saturday  Sunday  B60  B65  B70  B75  B80  DB1  DB2  \\\n",
       "0             0       0         0       0   23   23   23   23   23    0    0   \n",
       "1             0       0         0       0   22   23   23   23   23    1    0   \n",
       "2             0       0         0       0   22   22   23   23   23    0    1   \n",
       "3             0       0         0       0   22   22   22   23   23    0    0   \n",
       "4             0       0         0       0   22   22   22   22   23    0    0   \n",
       "...         ...     ...       ...     ...  ...  ...  ...  ...  ...  ...  ...   \n",
       "17970         0       0         0       0   14   14   14   14   14    0    0   \n",
       "17971         0       0         0       0   14   14   14   14   14    0    0   \n",
       "17972         0       0         0       0   14   14   14   14   14    0    0   \n",
       "17973         0       0         0       0   14   14   14   14   14    0    0   \n",
       "17974         0       0         0       0   14   14   14   14   14    0    0   \n",
       "\n",
       "       DDB1DB2  \n",
       "0            0  \n",
       "1           -1  \n",
       "2            1  \n",
       "3            0  \n",
       "4            0  \n",
       "...        ...  \n",
       "17970        0  \n",
       "17971        0  \n",
       "17972        0  \n",
       "17973        0  \n",
       "17974        0  \n",
       "\n",
       "[17975 rows x 18 columns]"
      ]
     },
     "execution_count": 4,
     "metadata": {},
     "output_type": "execute_result"
    }
   ],
   "source": [
    "df5"
   ]
  },
  {
   "cell_type": "code",
   "execution_count": 5,
   "metadata": {},
   "outputs": [],
   "source": [
    "def train_ridge(input_features, target_feature, alpha_value):\n",
    "    \"\"\"\n",
    "    Fits a ridge regressor to a set of data\n",
    "    Parameters\n",
    "    ----------\n",
    "    input_features : numpy.ndarray\n",
    "        features\n",
    "    target_feature : numpy.ndarray\n",
    "        target features\n",
    "    alpha_value : float\n",
    "        used to determine strength of regularisation\n",
    "    Returns\n",
    "    ----------\n",
    "    model : linear_model.Ridge\n",
    "    \"\"\"\n",
    "    ### train a Ridge regression model.\n",
    "    ### alpha seems to be approximately 1/c\n",
    "    ### https://stats.stackexchange.com/questions/216095/how-does-alpha-relate-to-c-in-scikit-learns-sgdclassifier\n",
    "    model = Ridge(alpha=alpha_value, max_iter=1000000000)\n",
    "    model.fit(input_features, target_feature)\n",
    "    # print('coeffs =',model.coef_)\n",
    "    return model"
   ]
  },
  {
   "cell_type": "code",
   "execution_count": 6,
   "metadata": {},
   "outputs": [],
   "source": [
    "def stack_features(df:pd.DataFrame):\n",
    "    X1 = df.iloc[:, 2]\n",
    "    X2 = df.iloc[:, 3]\n",
    "    X3 = df.iloc[:, 4]\n",
    "    X4 = df.iloc[:, 5]\n",
    "    X5 = df.iloc[:, 6]\n",
    "    X6 = df.iloc[:, 7]\n",
    "    X7 = df.iloc[:,8]\n",
    "    X8 = df.iloc[:, 9]\n",
    "    X9 = df.iloc[:, 10]\n",
    "    X10 = df.iloc[:, 11]\n",
    "    X11 = df.iloc[:, 12]\n",
    "    X12 = df.iloc[:,13]\n",
    "    X13 = df.iloc[:, 14]\n",
    "    X14 = df.iloc[:, 15]\n",
    "    X15 = df.iloc[:,16]\n",
    "    X16 = df.iloc[:, 17]\n",
    "    X = np.column_stack((X1, X2, X3, X4, X5, X6, X7, X8, X9, X10, X11, X12, X13, X14, X15, X16))\n",
    "\n",
    "    Y = df.iloc[:, 1]\n",
    "    return X, Y"
   ]
  },
  {
   "cell_type": "code",
   "execution_count": 7,
   "metadata": {},
   "outputs": [],
   "source": [
    "X1, Y1 =stack_features(df1) \n",
    "X2, Y2 = stack_features(df2)\n",
    "X3, Y3 =stack_features(df3) \n",
    "X4, Y4 = stack_features(df4)\n",
    "X5, Y5 =stack_features(df5) \n",
    "X6, Y6 = stack_features(df6)\n"
   ]
  },
  {
   "cell_type": "code",
   "execution_count": 8,
   "metadata": {},
   "outputs": [],
   "source": [
    "def train_Kfold_ridge(X_features, y_features, alpha_value):\n",
    "    \"\"\"\n",
    "    Uses K-fold cross validation \n",
    "    Parameters\n",
    "    ----------\n",
    "    X_features : array \n",
    "        features\n",
    "    y_features : array\n",
    "        target features\n",
    "    alpha_value : float\n",
    "        parameter for training\n",
    "    Returns\n",
    "    ----------\n",
    "    mean error : float\n",
    "    standard error : float\n",
    "    \"\"\"\n",
    "    kf = KFold(n_splits=5)\n",
    "    model = Ridge(alpha=alpha_value)\n",
    "    errs = []\n",
    "    # model = linear_model.Lasso(alpha=1/(2*c_value), max_iter=1000000000).fit()\n",
    "    for train, test in kf.split(X_features):\n",
    "        model.fit(X_features[train],y_features[train])\n",
    "        ypred = model.predict(X_features[test])\n",
    "        from sklearn.metrics import mean_squared_error\n",
    "        # print(\"square error %f\"%(mean_squared_error(y_features[test],ypred)))\n",
    "        errs.append(mean_squared_error(y_features[test],ypred))\n",
    "    # print(np.mean(errs))\n",
    "    return np.mean(errs), np.std(errs)"
   ]
  },
  {
   "cell_type": "code",
   "execution_count": 9,
   "metadata": {},
   "outputs": [],
   "source": [
    "def Kfold_for_C_ridge(X_features, y_features, C_range, title:str):\n",
    "    \"\"\"\n",
    "    Uses K-fold cross validation with varied values of C\n",
    "    Parameters\n",
    "    ----------\n",
    "    X_features : array \n",
    "        features\n",
    "    y_features : array\n",
    "        target features\n",
    "    C_range : array of float\n",
    "        parameters for training\n",
    "    Returns\n",
    "    ----------\n",
    "    nothing\n",
    "    \"\"\"\n",
    "    error_array = np.zeros(len(C_range))\n",
    "    std_dev_array = np.zeros(len(C_range))\n",
    "    for i in range(len(C_range)):\n",
    "        # print(\"\\n\\n C = %f\"%(C_range[i]))\n",
    "        error_array[i], std_dev_array[i] = train_Kfold_ridge(X_features, y_features, C_range[i])\n",
    "\n",
    "\n",
    "    # print(error_array)\n",
    "\n",
    "    plt.figure(title)\n",
    "    plt.errorbar(C_range, error_array, yerr=std_dev_array)\n",
    "    plt.xlabel('C value')\n",
    "    plt.ylabel('Mean Squared Error')\n",
    "    plt.title(title)\n",
    "    # x = np.arange(len(error_array))\n",
    "    # plt.bar(x, C_range, error_array)"
   ]
  },
  {
   "cell_type": "code",
   "execution_count": null,
   "metadata": {},
   "outputs": [],
   "source": [
    "def Kfold_for_alpha_ridge(X_features, y_features, alpha_range, title:str):\n",
    "    \"\"\"\n",
    "    Uses K-fold cross validation with varied values of C\n",
    "    Parameters\n",
    "    ----------\n",
    "    X_features : array \n",
    "        features\n",
    "    y_features : array\n",
    "        target features\n",
    "    C_range : array of float\n",
    "        parameters for training\n",
    "    Returns\n",
    "    ----------\n",
    "    nothing\n",
    "    \"\"\"\n",
    "    error_array = np.zeros(len(C_range))\n",
    "    std_dev_array = np.zeros(len(C_range))\n",
    "    for i in range(len(C_range)):\n",
    "        # print(\"\\n\\n C = %f\"%(C_range[i]))\n",
    "        error_array[i], std_dev_array[i] = train_Kfold_ridge(X_features, y_features, C_range[i])\n",
    "\n",
    "\n",
    "    # print(error_array)\n",
    "\n",
    "    plt.figure(title)\n",
    "    plt.errorbar(C_range, error_array, yerr=std_dev_array)\n",
    "    plt.xlabel('C value')\n",
    "    plt.ylabel('Mean Squared Error')\n",
    "    plt.title(title)\n",
    "    # x = np.arange(len(error_array))\n",
    "    # plt.bar(x, C_range, error_array)"
   ]
  },
  {
   "cell_type": "code",
   "execution_count": 10,
   "metadata": {},
   "outputs": [
    {
     "data": {
      "image/png": "[encoded data removed]",
      "text/plain": [
       "<Figure size 432x288 with 1 Axes>"
      ]
     },
     "metadata": {
      "needs_background": "light"
     },
     "output_type": "display_data"
    },
    {
     "data": {
      "image/png": "[encoded data removed]",
      "text/plain": [
       "<Figure size 432x288 with 1 Axes>"
      ]
     },
     "metadata": {
      "needs_background": "light"
     },
     "output_type": "display_data"
    }
   ],
   "source": [
    "C_range = np.linspace(0.00000000001, 5e-7,num=30)\n",
    "Kfold_for_C_ridge(X1,Y1,C_range, 'K-fold Cross Validation for Buckingham Street (10 mins in future)')\n",
    "C_range = np.linspace(0.00000000001, 3e-7,num=30)\n",
    "Kfold_for_C_ridge(X2,Y2,C_range, 'K-fold Cross Validation for Kilmainham Gaol (10 mins in future)')"
   ]
  },
  {
   "cell_type": "markdown",
   "metadata": {},
   "source": [
    "minimised by (around) 4e-7 for both"
   ]
  },
  {
   "cell_type": "code",
   "execution_count": 11,
   "metadata": {},
   "outputs": [
    {
     "data": {
      "image/png": "[encoded data removed]",
      "text/plain": [
       "<Figure size 432x288 with 1 Axes>"
      ]
     },
     "metadata": {
      "needs_background": "light"
     },
     "output_type": "display_data"
    },
    {
     "data": {
      "image/png": "[encoded data removed]",
      "text/plain": [
       "<Figure size 432x288 with 1 Axes>"
      ]
     },
     "metadata": {
      "needs_background": "light"
     },
     "output_type": "display_data"
    }
   ],
   "source": [
    "C_range = np.linspace(0.00000000001, 5e-7,num=30)\n",
    "Kfold_for_C_ridge(X3,Y3,C_range, 'K-fold Cross Validation for Buckingham Street (30 mins in future)')\n",
    "C_range = np.linspace(0.00000000001, 3e-7,num=30)\n",
    "Kfold_for_C_ridge(X4,Y4,C_range, 'K-fold Cross Validation for Kilmainham Gaol (30 mins in future)')"
   ]
  },
  {
   "cell_type": "code",
   "execution_count": 12,
   "metadata": {},
   "outputs": [
    {
     "data": {
      "image/png": "[encoded data removed]",
      "text/plain": [
       "<Figure size 432x288 with 1 Axes>"
      ]
     },
     "metadata": {
      "needs_background": "light"
     },
     "output_type": "display_data"
    },
    {
     "data": {
      "image/png": "[encoded data removed]",
      "text/plain": [
       "<Figure size 432x288 with 1 Axes>"
      ]
     },
     "metadata": {
      "needs_background": "light"
     },
     "output_type": "display_data"
    }
   ],
   "source": [
    "C_range = np.linspace(0.00000000001, 5e-7,num=30)\n",
    "Kfold_for_C_ridge(X5,Y5,C_range, 'K-fold Cross Validation for Buckingham Street (60 mins in future)')\n",
    "C_range = np.linspace(0.00000000001, 3e-7,num=30)\n",
    "Kfold_for_C_ridge(X6,Y6,C_range, 'K-fold Cross Validation for Kilmainham Gaol (60 mins in future)')"
   ]
  },
  {
   "cell_type": "markdown",
   "metadata": {},
   "source": [
    "It seems like they all have more or less the exact same curve  - this was a bug  \n",
    "when looking closer the further into the future values will undoubtedly have worse performance"
   ]
  },
  {
   "cell_type": "markdown",
   "metadata": {},
   "source": [
    "I now feel that I can use the same model for all 6 datasets,  \n",
    "For simplicity this translates to an alpha of 1.25e6"
   ]
  },
  {
   "cell_type": "code",
   "execution_count": 13,
   "metadata": {},
   "outputs": [],
   "source": [
    "# model = train_ridge(X1, Y1, 1.25e-8)\n",
    "# ml.generate_predictions(model, X1)"
   ]
  },
  {
   "cell_type": "code",
   "execution_count": 14,
   "metadata": {},
   "outputs": [],
   "source": [
    "X1_train, X1_test, y1_train, y1_test = train_test_split(X1, Y1, test_size=0.3, random_state=42)\n",
    "X2_train, X2_test, y2_train, y2_test = train_test_split(X2, Y2, test_size=0.3, random_state=42)\n",
    "X3_train, X3_test, y3_train, y3_test = train_test_split(X3, Y3, test_size=0.3, random_state=42)\n",
    "X4_train, X4_test, y4_train, y4_test = train_test_split(X4, Y4, test_size=0.3, random_state=42)\n",
    "X5_train, X5_test, y5_train, y5_test = train_test_split(X5, Y5, test_size=0.3, random_state=42)\n",
    "X6_train, X6_test, y6_train, y6_test = train_test_split(X6, Y6, test_size=0.3, random_state=42)"
   ]
  },
  {
   "cell_type": "code",
   "execution_count": 36,
   "metadata": {},
   "outputs": [],
   "source": [
    "model1 = Ridge(alpha=1.25e6).fit(X1_train,y1_train)\n",
    "predictions1 = ml.generate_predictions(model1, X1_test)\n",
    "mse1 = mtr.calculate_mse(predictions1,y1_test)\n",
    "r21 = mtr.calculate_R2(predictions1,y1_test)\n",
    "train_predictions1 = ml.generate_predictions(model1, X1_train)\n",
    "train_mse1 = mtr.calculate_mse(train_predictions1,y1_train)\n",
    "\n",
    "model2 = Ridge(alpha=5e6).fit(X2_train,y2_train)\n",
    "predictions2 = ml.generate_predictions(model2, X2_test)\n",
    "mse2 = mtr.calculate_mse(predictions2,y2_test)\n",
    "r22 = mtr.calculate_R2(predictions2,y2_test)\n",
    "train_predictions2 = ml.generate_predictions(model2, X2_train)\n",
    "train_mse2 = mtr.calculate_mse(train_predictions2,y2_train)\n",
    "\n",
    "model3 = Ridge(alpha=1.25e6).fit(X3_train,y3_train)\n",
    "predictions3 = ml.generate_predictions(model3, X3_test)\n",
    "mse3 = mtr.calculate_mse(predictions3,y3_test)\n",
    "r23 = mtr.calculate_R2(predictions3,y3_test)\n",
    "train_predictions3 = ml.generate_predictions(model3, X3_train)\n",
    "train_mse3 = mtr.calculate_mse(train_predictions3,y3_train)\n",
    "\n",
    "model4 = Ridge(alpha=5e6).fit(X4_train,y4_train)\n",
    "predictions4 = ml.generate_predictions(model4, X4_test)\n",
    "mse4 = mtr.calculate_mse(predictions4,y4_test)\n",
    "r24 = mtr.calculate_R2(predictions4,y4_test)\n",
    "train_predictions4 = ml.generate_predictions(model4, X4_train)\n",
    "train_mse4 = mtr.calculate_mse(train_predictions4,y4_train)\n",
    "\n",
    "model5 = Ridge(alpha=1.25e6).fit(X5_train,y5_train)\n",
    "predictions5 = ml.generate_predictions(model5, X5_test)\n",
    "mse5 = mtr.calculate_mse(predictions5,y5_test)\n",
    "r25 = mtr.calculate_R2(predictions5,y5_test)\n",
    "train_predictions5 = ml.generate_predictions(model5, X5_train)\n",
    "train_mse5 = mtr.calculate_mse(train_predictions5,y5_train)\n",
    "\n",
    "model6 = Ridge(alpha=5e6).fit(X6_train,y6_train)\n",
    "predictions6 = ml.generate_predictions(model6, X6_test)\n",
    "mse6 = mtr.calculate_mse(predictions6,y6_test)\n",
    "r26 = mtr.calculate_R2(predictions6,y6_test)\n",
    "train_predictions6 = ml.generate_predictions(model6, X6_train)\n",
    "train_mse6 = mtr.calculate_mse(train_predictions6,y6_train)"
   ]
  },
  {
   "cell_type": "code",
   "execution_count": 37,
   "metadata": {},
   "outputs": [
    {
     "data": {
      "text/plain": [
       "0.6846651255263413"
      ]
     },
     "execution_count": 37,
     "metadata": {},
     "output_type": "execute_result"
    }
   ],
   "source": [
    "train_mse1"
   ]
  },
  {
   "cell_type": "code",
   "execution_count": 38,
   "metadata": {},
   "outputs": [
    {
     "name": "stdout",
     "output_type": "stream",
     "text": [
      "[ 0.00000000e+00  1.87178462e+00  8.65412385e-03 -2.26489152e-02\n",
      "  1.47544248e-02  9.32747724e-03 -4.85610120e-02  9.53185339e-03\n",
      "  2.89420478e-02  5.39036087e-01  2.70289893e-01  9.48713733e-02\n",
      " -1.69461142e-02 -2.46600633e-02 -2.68746193e-01 -1.75418521e-01\n",
      "  9.33276725e-02 -1.63498185e+00  2.83967376e-01  5.91947202e-01\n",
      "  3.90598618e-01  3.33412440e-01  4.84931671e-01 -1.32025716e-01\n",
      " -8.10469678e-02 -1.49072653e-03  3.57358734e-03  3.10307643e-02\n",
      " -4.58009873e-02  1.41467948e-02  5.06431372e-03  2.74571785e-02\n",
      "  2.23928647e-02  8.65412385e-03  0.00000000e+00  0.00000000e+00\n",
      "  0.00000000e+00  0.00000000e+00  0.00000000e+00  0.00000000e+00\n",
      "  1.10081398e-01  4.32233256e-02  4.01384349e-03  2.41528106e-02\n",
      " -6.20682030e-02 -6.68580714e-02 -3.92094824e-02  2.76485890e-02\n",
      " -2.26489152e-02  0.00000000e+00  0.00000000e+00  0.00000000e+00\n",
      "  0.00000000e+00  0.00000000e+00  7.03100161e-02  3.95404122e-02\n",
      "  1.55060724e-02  2.82351661e-02 -3.70924894e-02 -3.07696035e-02\n",
      " -2.40343405e-02  6.73526301e-03  1.47544248e-02  0.00000000e+00\n",
      "  0.00000000e+00  0.00000000e+00  0.00000000e+00  1.23369333e-01\n",
      "  3.33543478e-02 -3.75075874e-02 -3.97953990e-02  3.79674171e-02\n",
      " -9.00149857e-02 -7.08619349e-02  1.91530508e-02  9.32747724e-03\n",
      "  0.00000000e+00  0.00000000e+00  0.00000000e+00  8.20192098e-02\n",
      "  3.27291524e-02  1.06183617e-02  1.50029447e-02 -1.85878841e-02\n",
      " -4.92900579e-02 -2.21107905e-02  2.71792674e-02 -4.85610120e-02\n",
      "  0.00000000e+00  0.00000000e+00  8.70083006e-02  3.76230360e-02\n",
      " -4.81190076e-03  3.84537470e-03 -3.98376326e-03 -4.93852642e-02\n",
      " -4.24349367e-02  6.95032749e-03  9.53185339e-03  0.00000000e+00\n",
      "  5.78606671e-02  4.80619393e-02  3.44543847e-02 -2.18059384e-02\n",
      "  1.69742231e-02 -9.79872863e-03 -1.36075543e-02 -3.80882570e-03\n",
      "  2.89420478e-02  8.38716182e-03  3.57576782e-02  7.25981974e-02\n",
      " -2.65810759e-02  4.21306340e-02  2.73705180e-02  3.68405184e-02\n",
      "  9.47000040e-03  2.55580067e-03  3.35935374e-03  6.42332939e-03\n",
      " -1.50607691e-02  5.28022675e-03  8.03462457e-04  3.06378336e-03\n",
      "  2.26032060e-03 -2.68133598e-04 -3.38655702e-03  7.90868174e-03\n",
      " -4.42509679e-03 -3.62754368e-03 -3.11829918e-03  5.09244564e-04\n",
      " -1.24128722e-02  9.79374111e-03  4.13233980e-03 -9.80962625e-03\n",
      " -9.02646805e-03  7.83157916e-04  8.00128396e-03 -1.47976279e-02\n",
      "  2.29693314e-02  1.88519322e-03 -2.10841385e-02  3.01870964e-03\n",
      " -9.70554732e-03  8.55756894e-03  1.82631163e-02 -4.43100641e-03\n",
      " -6.18208238e-03 -1.75107601e-03 -5.90816904e-03  2.73913384e-04\n",
      "  2.02498938e-03]\n",
      "[ 0.00000000e+00 -1.11834880e+01 -1.39490325e+00 -2.13467998e+00\n",
      " -2.25594742e+00 -1.27649982e+00 -1.81059230e+00  4.68577211e+00\n",
      "  4.18685066e+00 -5.55530209e-01 -3.85664006e-01 -3.40898671e-01\n",
      "  2.31107866e-01  1.27067063e+00  1.69866206e-01  4.47653411e-02\n",
      " -1.25100865e-01  2.46138224e+01  1.63189441e-01  2.36611817e-01\n",
      "  2.28731608e+00 -2.32238104e+00  1.27936438e+00 -6.38940899e+00\n",
      " -6.43817968e+00  1.38979638e+00  7.58222324e-01  5.39441952e-01\n",
      " -2.59407428e-01 -2.53448168e+00 -6.31574055e-01 -2.18780368e-01\n",
      "  4.12793688e-01 -1.39490325e+00  0.00000000e+00  0.00000000e+00\n",
      "  0.00000000e+00  0.00000000e+00  0.00000000e+00  0.00000000e+00\n",
      " -7.27949648e-02 -9.70866946e-02 -6.94969906e-02  1.41659890e-01\n",
      "  1.91013169e-01 -2.42917303e-02  2.75897040e-02  5.18814343e-02\n",
      " -2.13467998e+00  0.00000000e+00  0.00000000e+00  0.00000000e+00\n",
      "  0.00000000e+00  0.00000000e+00 -1.17791239e-01 -4.20318139e-02\n",
      "  1.56036719e-02 -3.35961452e-01  6.61655392e-01  7.57594261e-02\n",
      "  5.76354844e-02 -1.81239417e-02 -2.25594742e+00  0.00000000e+00\n",
      "  0.00000000e+00  0.00000000e+00  0.00000000e+00 -9.47853247e-02\n",
      "  7.26948691e-02  1.11119408e-01  7.22879675e-03  8.21860578e-02\n",
      "  1.67480189e-01  3.84245397e-02 -1.29055650e-01 -1.27649982e+00\n",
      "  0.00000000e+00  0.00000000e+00  0.00000000e+00  7.65848341e-02\n",
      "  2.84955216e-02  1.73978716e-02 -5.52366135e-02  1.40422416e-01\n",
      " -4.80893127e-02 -1.10976513e-02  3.69916614e-02 -1.81059230e+00\n",
      "  0.00000000e+00  0.00000000e+00 -1.10488241e-01 -1.19759586e-01\n",
      " -1.20175717e-01  7.46078145e-03  4.53467377e-01 -9.27134431e-03\n",
      " -4.16130342e-04  8.85521398e-03  4.68577211e+00  0.00000000e+00\n",
      " -2.48406351e-02 -1.53970712e-01 -2.85198422e-01  5.32864344e-01\n",
      " -3.46679370e-01 -1.29130077e-01 -1.31227709e-01 -2.09763270e-03\n",
      "  4.18685066e+00 -2.11414644e-01 -7.40055880e-02 -1.01484838e-02\n",
      " -6.69078885e-02  8.86055921e-02  1.37409055e-01  6.38571042e-02\n",
      " -7.35519509e-02  6.18543286e-03 -2.30719715e-03 -2.27695070e-02\n",
      " -8.51713885e-03  2.70581208e-02 -8.49279103e-03 -2.04620846e-02\n",
      " -1.19692940e-02  7.58044678e-03  1.49976746e-02 -5.19716727e-02\n",
      "  2.34963394e-02  9.88791026e-03  7.41715681e-03 -2.47075420e-03\n",
      "  3.61793946e-02 -3.21886809e-02 -1.50819813e-02  3.77671513e-02\n",
      "  2.11815252e-02 -1.65856259e-02  9.09012038e-02 -9.74448560e-02\n",
      " -4.34542763e-02  1.97829622e-02  6.32372387e-02  2.43097837e-02\n",
      " -3.56208896e-03 -3.85781361e-02 -3.50160472e-02  1.83807015e-02\n",
      "  2.78792412e-02  9.49853989e-03  1.37643692e-02 -1.41148720e-02\n",
      " -2.36134119e-02]\n"
     ]
    }
   ],
   "source": [
    "print(model1.coef_)\n",
    "print(model2.coef_)"
   ]
  },
  {
   "cell_type": "code",
   "execution_count": 39,
   "metadata": {},
   "outputs": [
    {
     "name": "stdout",
     "output_type": "stream",
     "text": [
      "mse 1: 0.7493926437759971, training mse = 0.6846651255263413, r_2 = 0.9907263020374766\n",
      "mse 2: 44.6846733834031, training mse = 44.105608864085376, r_2 = 0.44702931373375165\n",
      "mse 3: 2.6686369035685056, training mse = 2.4979881228114995, r_2 = 0.9671500641188081\n",
      "mse 4: 45.00548458938437, training mse = 43.84506704059715, r_2 = 0.4459990862427595\n",
      "mse 5: 6.37594038862104, training mse = 5.547017069918206, r_2 = 0.9203948661401254\n",
      "mse 6: 44.9591268993325, training mse = 44.08848615502902, r_2 = 0.43867459591815683\n"
     ]
    }
   ],
   "source": [
    "print(f\"mse 1: {mse1}, training mse = {train_mse1}, r_2 = {r21}\")\n",
    "print(f\"mse 2: {mse2}, training mse = {train_mse2}, r_2 = {r22}\")\n",
    "print(f\"mse 3: {mse3}, training mse = {train_mse3}, r_2 = {r23}\")\n",
    "print(f\"mse 4: {mse4}, training mse = {train_mse4}, r_2 = {r24}\")\n",
    "print(f\"mse 5: {mse5}, training mse = {train_mse5}, r_2 = {r25}\")\n",
    "print(f\"mse 6: {mse6}, training mse = {train_mse6}, r_2 = {r26}\")\n"
   ]
  },
  {
   "cell_type": "markdown",
   "metadata": {},
   "source": [
    "Dummy Predictor should just be the most recent value"
   ]
  },
  {
   "cell_type": "code",
   "execution_count": 19,
   "metadata": {},
   "outputs": [],
   "source": [
    "dummy_preds_1 = X1_test[:,8]\n",
    "dummy_mse_1 = mtr.calculate_mse(dummy_preds_1,y1_test)\n",
    "dummy_r21 = mtr.calculate_R2(dummy_preds_1,y1_test)\n",
    "dummy_preds_2 = X2_test[:,8]\n",
    "dummy_mse_2 = mtr.calculate_mse(dummy_preds_2,y2_test)\n",
    "dummy_r22 = mtr.calculate_R2(dummy_preds_2,y2_test)\n",
    "dummy_preds_3 = X3_test[:,8]\n",
    "dummy_mse_3 = mtr.calculate_mse(dummy_preds_3,y3_test)\n",
    "dummy_r23 = mtr.calculate_R2(dummy_preds_3,y3_test)\n",
    "dummy_preds_4 = X4_test[:,8]\n",
    "dummy_mse_4 = mtr.calculate_mse(dummy_preds_4,y4_test)\n",
    "dummy_r24 = mtr.calculate_R2(dummy_preds_4,y4_test)\n",
    "dummy_preds_5 = X5_test[:,8]\n",
    "dummy_mse_5 = mtr.calculate_mse(dummy_preds_5,y5_test)\n",
    "dummy_r25 = mtr.calculate_R2(dummy_preds_5,y5_test)\n",
    "dummy_preds_6 = X6_test[:,8]\n",
    "dummy_mse_6 = mtr.calculate_mse(dummy_preds_6,y6_test)\n",
    "dummy_r26 = mtr.calculate_R2(dummy_preds_6,y6_test)"
   ]
  },
  {
   "cell_type": "code",
   "execution_count": 40,
   "metadata": {},
   "outputs": [
    {
     "data": {
      "image/png": "[encoded data removed]",
      "text/plain": [
       "<Figure size 720x360 with 1 Axes>"
      ]
     },
     "metadata": {
      "needs_background": "light"
     },
     "output_type": "display_data"
    }
   ],
   "source": [
    "data1 = {'10 minutes':mse1, '30 minutes':mse3, '60 minutes':mse5}\n",
    "data2 = {'dummy 10':dummy_mse_1, 'dummy 30':dummy_mse_3, 'dummy 60':dummy_mse_5}\n",
    "keys1 = list(data1.keys())\n",
    "values1 = list(data1.values())\n",
    "keys2 = list(data2.keys())\n",
    "values2 = list(data2.values())\n",
    "  \n",
    "fig = plt.figure(figsize = (10, 5))\n",
    " \n",
    "# creating the bar plot\n",
    "plt.bar(keys1, values1, color ='blue',\n",
    "        width = 0.4)\n",
    "\n",
    "plt.bar(keys2, values2, color ='green',\n",
    "        width = 0.4)\n",
    "\n",
    "plt.xlabel(\"Regression Model\")\n",
    "plt.ylabel(\"Mean Squared Error\")\n",
    "plt.title(\"Mean Squared Error (Buckingham Street)\")\n",
    "plt.show()"
   ]
  },
  {
   "cell_type": "code",
   "execution_count": 41,
   "metadata": {},
   "outputs": [
    {
     "data": {
      "image/png": "[encoded data removed]",
      "text/plain": [
       "<Figure size 720x360 with 1 Axes>"
      ]
     },
     "metadata": {
      "needs_background": "light"
     },
     "output_type": "display_data"
    }
   ],
   "source": [
    "data1 = {'10 minutes':mse2, '30 minutes':mse4, '60 minutes':mse4}\n",
    "data2 = {'dummy 10':dummy_mse_2, 'dummy 30':dummy_mse_4, 'dummy 60':dummy_mse_6}\n",
    "keys1 = list(data1.keys())\n",
    "values1 = list(data1.values())\n",
    "keys2 = list(data2.keys())\n",
    "values2 = list(data2.values())\n",
    "  \n",
    "fig = plt.figure(figsize = (10, 5))\n",
    " \n",
    "# creating the bar plot\n",
    "plt.bar(keys1, values1, color ='blue',\n",
    "        width = 0.4)\n",
    "\n",
    "plt.bar(keys2, values2, color ='green',\n",
    "        width = 0.4)\n",
    "\n",
    "plt.xlabel(\"Regression Model\")\n",
    "plt.ylabel(\"Mean Squared Error\")\n",
    "plt.title(\"Mean Squared Error (Kilmainham Gaol)\")\n",
    "plt.show()"
   ]
  },
  {
   "cell_type": "markdown",
   "metadata": {},
   "source": [
    "### plot preds and truths"
   ]
  },
  {
   "cell_type": "code",
   "execution_count": null,
   "metadata": {},
   "outputs": [],
   "source": []
  },
  {
   "cell_type": "markdown",
   "metadata": {},
   "source": [
    "### Redo with polynomial features."
   ]
  },
  {
   "cell_type": "code",
   "execution_count": 22,
   "metadata": {},
   "outputs": [],
   "source": [
    "polyX1 = misc.make_poly_data(X1, 2)\n",
    "polyX2 = misc.make_poly_data(X2, 2)\n",
    "polyX3 = misc.make_poly_data(X3, 2)\n",
    "polyX4 = misc.make_poly_data(X4, 2)\n",
    "polyX5 = misc.make_poly_data(X5, 2)\n",
    "polyX6 = misc.make_poly_data(X6, 2)"
   ]
  },
  {
   "cell_type": "code",
   "execution_count": 23,
   "metadata": {},
   "outputs": [],
   "source": [
    "X1_train, X1_test, y1_train, y1_test = train_test_split(polyX1, Y1, test_size=0.3, random_state=42)\n",
    "X2_train, X2_test, y2_train, y2_test = train_test_split(polyX2, Y2, test_size=0.3, random_state=42)\n",
    "X3_train, X3_test, y3_train, y3_test = train_test_split(polyX3, Y3, test_size=0.3, random_state=42)\n",
    "X4_train, X4_test, y4_train, y4_test = train_test_split(polyX4, Y4, test_size=0.3, random_state=42)\n",
    "X5_train, X5_test, y5_train, y5_test = train_test_split(polyX5, Y5, test_size=0.3, random_state=42)\n",
    "X6_train, X6_test, y6_train, y6_test = train_test_split(polyX6, Y6, test_size=0.3, random_state=42)"
   ]
  },
  {
   "cell_type": "code",
   "execution_count": 35,
   "metadata": {},
   "outputs": [
    {
     "data": {
      "image/png": "[encoded data removed]",
      "text/plain": [
       "<Figure size 432x288 with 1 Axes>"
      ]
     },
     "metadata": {
      "needs_background": "light"
     },
     "output_type": "display_data"
    },
    {
     "data": {
      "image/png": "[encoded data removed]",
      "text/plain": [
       "<Figure size 432x288 with 1 Axes>"
      ]
     },
     "metadata": {
      "needs_background": "light"
     },
     "output_type": "display_data"
    }
   ],
   "source": [
    "C_range = np.linspace(0.00000000001, 2e-10,num=30)\n",
    "Kfold_for_C_ridge(polyX1,Y1,C_range, 'K-fold Cross Validation for Buckingham Street (10 mins in future)')\n",
    "C_range = np.linspace(0.00000000001, 0.5e-9,num=30)\n",
    "Kfold_for_C_ridge(polyX2,Y2,C_range, 'K-fold Cross Validation for Kilmainham Gaol (10 mins in future)')"
   ]
  },
  {
   "cell_type": "code",
   "execution_count": 34,
   "metadata": {},
   "outputs": [
    {
     "data": {
      "image/png": "[encoded data removed]",
      "text/plain": [
       "<Figure size 432x288 with 1 Axes>"
      ]
     },
     "metadata": {
      "needs_background": "light"
     },
     "output_type": "display_data"
    },
    {
     "data": {
      "image/png": "[encoded data removed]",
      "text/plain": [
       "<Figure size 432x288 with 1 Axes>"
      ]
     },
     "metadata": {
      "needs_background": "light"
     },
     "output_type": "display_data"
    }
   ],
   "source": [
    "C_range = np.linspace(0.00000000001, 3e-10,num=30)\n",
    "Kfold_for_C_ridge(polyX3,Y3,C_range, 'K-fold Cross Validation for Buckingham Street (30 mins in future)')\n",
    "C_range = np.linspace(0.00000000001, 2e-10,num=30)\n",
    "Kfold_for_C_ridge(polyX4,Y4,C_range, 'K-fold Cross Validation for Kilmainham Gaol (30 mins in future)')"
   ]
  },
  {
   "cell_type": "code",
   "execution_count": null,
   "metadata": {},
   "outputs": [],
   "source": []
  }
 ],
 "metadata": {
  "interpreter": {
   "hash": "eb3c8892de2db7fad7dda1405878965bd170cb28ec70e3c0bc8ed3e1088822dc"
  },
  "kernelspec": {
   "display_name": "Python 3.8.5 64-bit ('base': conda)",
   "language": "python",
   "name": "python3"
  },
  "language_info": {
   "codemirror_mode": {
    "name": "ipython",
    "version": 3
   },
   "file_extension": ".py",
   "mimetype": "text/x-python",
   "name": "python",
   "nbconvert_exporter": "python",
   "pygments_lexer": "ipython3",
   "version": "3.8.5"
  },
  "orig_nbformat": 4
 },
 "nbformat": 4,
 "nbformat_minor": 2
}
